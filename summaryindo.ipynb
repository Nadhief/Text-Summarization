{
 "cells": [
  {
   "cell_type": "code",
   "execution_count": null,
   "metadata": {},
   "outputs": [],
   "source": [
    "\n",
    "from tensorflow.keras.layers import Embedding, Bidirectional, SimpleRNN, Dense, TimeDistributed, Input, LayerNormalization\n",
    "from tensorflow.keras.preprocessing.sequence import pad_sequences\n",
    "from tensorflow.keras.preprocessing.text import Tokenizer\n",
    "from tensorflow.keras.layers import Attention\n",
    "from tensorflow.keras.models import Model\n",
    "import numpy as np\n",
    "import pandas as pd\n",
    "from nltk.translate.bleu_score import sentence_bleu\n",
    "import matplotlib.pyplot as plt\n",
    "from datasets import load_dataset\n"
   ]
  },
  {
   "cell_type": "code",
   "execution_count": 21,
   "metadata": {},
   "outputs": [
    {
     "name": "stderr",
     "output_type": "stream",
     "text": [
      "c:\\Users\\ASUS\\AppData\\Local\\Programs\\Python\\Python310\\lib\\site-packages\\huggingface_hub\\file_download.py:139: UserWarning: `huggingface_hub` cache-system uses symlinks by default to efficiently store duplicated files but your machine does not support them in C:\\Users\\ASUS\\.cache\\huggingface\\hub\\datasets--SEACrowd--liputan6. Caching files will still work but in a degraded version that might require more space on your disk. This warning can be disabled by setting the `HF_HUB_DISABLE_SYMLINKS_WARNING` environment variable. For more details, see https://huggingface.co/docs/huggingface_hub/how-to-cache#limitations.\n",
      "To support symlinks on Windows, you either need to activate Developer Mode or to run Python as an administrator. In order to activate developer mode, see this article: https://docs.microsoft.com/en-us/windows/apps/get-started/enable-your-device-for-development\n",
      "  warnings.warn(message)\n",
      "Downloading data: 100%|██████████| 333M/333M [01:54<00:00, 2.91MB/s]   \n",
      "Generating train split: 193883 examples [00:06, 30977.50 examples/s]\n",
      "Generating test split: 10972 examples [00:00, 36818.13 examples/s]\n",
      "Generating validation split: 10972 examples [00:00, 36089.34 examples/s]\n"
     ]
    }
   ],
   "source": [
    "dset = load_dataset(\"SEACrowd/liputan6\", trust_remote_code=True)"
   ]
  },
  {
   "cell_type": "code",
   "execution_count": 126,
   "metadata": {},
   "outputs": [
    {
     "name": "stdout",
     "output_type": "stream",
     "text": [
      "Number of rows in train data: 193883\n",
      "Number of columns in train data: 3\n",
      "Column names: ['document', 'id', 'summary']\n",
      "\n",
      "Sample row:\n",
      " {'document': 'TIGA kali somasi dilayangkan kepada Nuri Shaden . Namun reaksi yang diharapkan agar meminta maaf hasilnya nihil . Keluarga Janu Utomo melaporkan kasus kecelakaan di Jalan Sisingamaraja , Jakarta Selatan , 1 Juni silam itu ke Kepolisian Resor Metro Jaksel . \" Kita melaporkan atas dugaan tindak pidana , \" tutur Taufik Basari , kuasa hukum keluarga Janu , belum lama ini . Taufik menambahkan , pihaknya ingin Nuri mencabut pernyataan di depan pers , 2 Juni silam . Ia juga ingin Nuri meminta maaf di media atas kejadian itu . Dan juga menyampaikan belasungkawa . Taufik menilai , pernyataan Nuri memutarbalikkan fakta . \" Yang kita adukan soal pernyataan-pernyataannya , \" ujar dia . Keluarga Janu melaporkan dengan dua tuduhan . Yakni sikap yang tidak menyenangkan dan pencemaran nama baik . Kala itu Nuri menuding mobil ambulans yang menabrak kendaraannya . \" Intinya mereka menabrak kita , \" ucap Nuri saat jumpa pers waktu itu . Pernyataan disampaikan bintang film Seventeen didampingi Noni T , pengacaranya . Ia menyalahkan Januari Purwoko , sopir ambulans . Padahal Januari sudah mengklakson mobil Honda Jazz yang ditumpangi Nuri . Tabrakan pun terhindarkan . Ambulans rusak di bagian kanan dan as roda belakang patah . Tabrakan mobil ambulans dan Honda Jazz yang dikendarai Nuri merenggut nyawa Janu Utomo . Sedangkan Januari Purwoko , sopir ambulans cedera parah . Tiga lainnya di mobil ambulans luka ringan . Yakni istri Janu , Retno Indarti , Krisanti Indriani , dan perawat Risa Citra Dewi . Kala itu keluarga mengantarkan Janu hendak mencuci darah . Soal ini kubu Nuri membantah . Noni mengatakan Janu meninggal karena penyakit jantung yang dideritanya . ( As ) .', 'id': '228132', 'summary': 'TIGA kali somasi dilayangkan kepada Nuri Shaden . Namun reaksi yang diharapkan agar meminta maaf hasilnya nihil . Keluarga Janu Utomo pun melaporkan Nuri ke Kepolisian Resor Metro Jakarta Selatan .'}\n",
      "\n",
      "Dataset Info:\n",
      " DatasetDict({\n",
      "    train: Dataset({\n",
      "        features: ['document', 'id', 'summary'],\n",
      "        num_rows: 193883\n",
      "    })\n",
      "    test: Dataset({\n",
      "        features: ['document', 'id', 'summary'],\n",
      "        num_rows: 10972\n",
      "    })\n",
      "    validation: Dataset({\n",
      "        features: ['document', 'id', 'summary'],\n",
      "        num_rows: 10972\n",
      "    })\n",
      "})\n"
     ]
    }
   ],
   "source": [
    "train_data = dset['train']\n",
    "\n",
    "print(\"Number of rows in train data:\", train_data.num_rows)\n",
    "print(\"Number of columns in train data:\", train_data.num_columns)\n",
    "print(\"Column names:\", train_data.column_names)\n",
    "print(\"\\nSample row:\\n\", train_data[0]) \n",
    "\n",
    "print(\"\\nDataset Info:\\n\", dset)\n"
   ]
  },
  {
   "cell_type": "code",
   "execution_count": 127,
   "metadata": {},
   "outputs": [
    {
     "name": "stdout",
     "output_type": "stream",
     "text": [
      "Number of rows in train data: 10972\n",
      "Number of columns in train data: 3\n",
      "Column names: ['document', 'id', 'summary']\n",
      "\n",
      "Sample row:\n",
      " {'document': 'Liputan6 . com , Jakarta : Keinginan untuk menindaklanjuti hasil curah pendapat yang diprakarsai Kwik Kian Gie , semakin mengental . Buktinya , beberapa anggota DPR ngebet membentuk Forum Lobi . Ketua DPR Akbar Tandjung baru-baru ini , mempersilakan para wakil rakyat yang ingin membentuk forum tersebut . Namun , Akbar menegaskan , pembentukan forum tersebut bukan bagian dari mekanisme DPR . Menurut Akbar , hasil curah pendapat 11 November silam , bisa saja dimasukkan dalam agenda dewan . Asalkan , kata Ketua Umum Golkar ini , semua proses harus berjalan sesuai prosedur yang ada . Artinya , itu harus disepakati melalui rapat fraksi dan dibawa ke Badan Musyawarah . \" Bila Bamus telah merumuskannya menjadi sebuah usulan agenda , maka dapat dibawa ke rapat paripurna yang nantinya akan menjadi agenda DPR , \" kata Akbar . ( YYT/Diah Kusuma dan Prihandoyo ) .', 'id': '3721', 'summary': 'Sebagian anggota DPR berniat besar menindaklanjuti hasil curah pendapat menjadi agenda dewan . Akbar Tandjung setuju membentuk Forum Lobi , asal , sesuai prosedur yang ada di DPR .'}\n",
      "\n",
      "Dataset Info:\n",
      " DatasetDict({\n",
      "    train: Dataset({\n",
      "        features: ['document', 'id', 'summary'],\n",
      "        num_rows: 193883\n",
      "    })\n",
      "    test: Dataset({\n",
      "        features: ['document', 'id', 'summary'],\n",
      "        num_rows: 10972\n",
      "    })\n",
      "    validation: Dataset({\n",
      "        features: ['document', 'id', 'summary'],\n",
      "        num_rows: 10972\n",
      "    })\n",
      "})\n"
     ]
    }
   ],
   "source": [
    "val_data = dset['validation']\n",
    "\n",
    "print(\"Number of rows in train data:\", val_data.num_rows)\n",
    "print(\"Number of columns in train data:\", val_data.num_columns)\n",
    "print(\"Column names:\", val_data.column_names)\n",
    "print(\"\\nSample row:\\n\", val_data[0]) \n",
    "\n",
    "print(\"\\nDataset Info:\\n\", dset)"
   ]
  },
  {
   "cell_type": "code",
   "execution_count": 106,
   "metadata": {},
   "outputs": [
    {
     "name": "stdout",
     "output_type": "stream",
     "text": [
      "Training data size: 500 articles, 500 highlights\n",
      "Validation data size: 100 articles, 100 highlights\n"
     ]
    }
   ],
   "source": [
    "# Assuming dset['train']['document'] and dset['train']['summary'] are your lists of articles and summaries\n",
    "articles_train = dset['train']['document'][:500]\n",
    "highlights_train = dset['train']['summary'][:500]\n",
    "\n",
    "articles_val = dset['validation']['document'][:100]\n",
    "highlights_val = dset['validation']['summary'][:100]\n",
    "\n",
    "# Print to verify the sizes\n",
    "print(f\"Training data size: {len(articles_train)} articles, {len(highlights_train)} highlights\")\n",
    "print(f\"Validation data size: {len(articles_val)} articles, {len(highlights_val)} highlights\")\n"
   ]
  },
  {
   "cell_type": "code",
   "execution_count": 107,
   "metadata": {},
   "outputs": [
    {
     "name": "stdout",
     "output_type": "stream",
     "text": [
      "Sample Article:\n",
      " TIGA kali somasi dilayangkan kepada Nuri Shaden . Namun reaksi yang diharapkan agar meminta maaf hasilnya nihil . Keluarga Janu Utomo melaporkan kasus kecelakaan di Jalan Sisingamaraja , Jakarta Selatan , 1 Juni silam itu ke Kepolisian Resor Metro Jaksel . \" Kita melaporkan atas dugaan tindak pidana , \" tutur Taufik Basari , kuasa hukum keluarga Janu , belum lama ini . Taufik menambahkan , pihaknya ingin Nuri mencabut pernyataan di depan pers , 2 Juni silam . Ia juga ingin Nuri meminta maaf di media atas kejadian itu . Dan juga menyampaikan belasungkawa . Taufik menilai , pernyataan Nuri memutarbalikkan fakta . \" Yang kita adukan soal pernyataan-pernyataannya , \" ujar dia . Keluarga Janu melaporkan dengan dua tuduhan . Yakni sikap yang tidak menyenangkan dan pencemaran nama baik . Kala itu Nuri menuding mobil ambulans yang menabrak kendaraannya . \" Intinya mereka menabrak kita , \" ucap Nuri saat jumpa pers waktu itu . Pernyataan disampaikan bintang film Seventeen didampingi Noni T , pengacaranya . Ia menyalahkan Januari Purwoko , sopir ambulans . Padahal Januari sudah mengklakson mobil Honda Jazz yang ditumpangi Nuri . Tabrakan pun terhindarkan . Ambulans rusak di bagian kanan dan as roda belakang patah . Tabrakan mobil ambulans dan Honda Jazz yang dikendarai Nuri merenggut nyawa Janu Utomo . Sedangkan Januari Purwoko , sopir ambulans cedera parah . Tiga lainnya di mobil ambulans luka ringan . Yakni istri Janu , Retno Indarti , Krisanti Indriani , dan perawat Risa Citra Dewi . Kala itu keluarga mengantarkan Janu hendak mencuci darah . Soal ini kubu Nuri membantah . Noni mengatakan Janu meninggal karena penyakit jantung yang dideritanya . ( As ) .\n",
      "\n",
      "Sample Summary:\n",
      " TIGA kali somasi dilayangkan kepada Nuri Shaden . Namun reaksi yang diharapkan agar meminta maaf hasilnya nihil . Keluarga Janu Utomo pun melaporkan Nuri ke Kepolisian Resor Metro Jakarta Selatan .\n"
     ]
    }
   ],
   "source": [
    "# Print one article and its corresponding summary\n",
    "print(\"Sample Article:\\n\", articles_train[0])\n",
    "print(\"\\nSample Summary:\\n\", highlights_train[0])"
   ]
  },
  {
   "cell_type": "code",
   "execution_count": 128,
   "metadata": {},
   "outputs": [
    {
     "name": "stdout",
     "output_type": "stream",
     "text": [
      "Article Tokenizer Word Index:\n",
      "{'<OOV>': 1, 'di': 2, 'yang': 3, 'dan': 4, 'ini': 5, 'itu': 6, 'dengan': 7, 'dari': 8, 'untuk': 9, 'dalam': 10, 'juga': 11, 'ke': 12, 'akan': 13, 'tidak': 14, 'jakarta': 15, 'com': 16, 'liputan6': 17, 'mereka': 18, 'warga': 19, 'tak': 20}\n",
      "\n",
      "Highlight Tokenizer Word Index:\n",
      "{'<OOV>': 1, 'di': 2, 'yang': 3, 'dan': 4, 'ini': 5, 'dengan': 6, 'dari': 7, 'untuk': 8, 'ke': 9, 'warga': 10, 'itu': 11, 'dalam': 12, 'akan': 13, 'tak': 14, 'mereka': 15, 'karena': 16, 'jakarta': 17, 'dua': 18, 'tidak': 19, 'kota': 20}\n"
     ]
    }
   ],
   "source": [
    "\n",
    "# Increase num_words to 20,000 and adjust OOV token\n",
    "vocab_size = 10000\n",
    "article_tokenizer = Tokenizer(num_words=vocab_size, oov_token=\"<OOV>\")\n",
    "highlight_tokenizer = Tokenizer(num_words=vocab_size, oov_token=\"<OOV>\")\n",
    "\n",
    "# Fit tokenizers on training data\n",
    "article_tokenizer.fit_on_texts(articles_train)\n",
    "highlight_tokenizer.fit_on_texts(highlights_train)\n",
    "\n",
    "# Print tokenizer word indices\n",
    "print(\"Article Tokenizer Word Index:\")\n",
    "print(dict(list(article_tokenizer.word_index.items())[:20])) \n",
    "\n",
    "print(\"\\nHighlight Tokenizer Word Index:\")\n",
    "print(dict(list(highlight_tokenizer.word_index.items())[:20])) "
   ]
  },
  {
   "cell_type": "code",
   "execution_count": 129,
   "metadata": {},
   "outputs": [
    {
     "name": "stdout",
     "output_type": "stream",
     "text": [
      "Article Sequences (Training):\n",
      "[[76, 95, 7321, 7322, 81, 1737, 7323, 31, 1902, 3, 649, 171, 150, 1903, 1440, 5117, 172, 2123, 3336, 707, 51, 737, 2, 92, 7324, 15, 142, 55, 738, 101, 6, 12, 114, 431, 813, 1904, 343, 707, 102, 650, 953, 1159, 1738, 1083, 7325, 627, 158, 172, 2123, 49, 185, 5, 1083, 392, 572, 329, 1737, 4045, 678, 2, 175, 2124, 110, 738, 101, 73, 11, 329, 1737, 150, 1903, 2, 1006, 102, 470, 6, 4, 11, 1160, 7326, 1083, 524, 678, 1737, 7327, 1575, 3, 343, 7328, 393, 678, 2791, 376, 82, 172, 2123, 707, 7, 29, 1905, 377, 771, 3, 14, 2792, 4, 1441, 344, 179, 2412, 6, 1737, 4046, 261, 1576, 3, 2413, 5118, 5119, 18, 2413, 343, 1348, 1737, 26, 3337, 2124, 176, 6, 678, 772, 679, 680, 7329, 1906, 5120, 1907, 5121, 73, 7330, 1161, 4047, 1577, 1576, 280, 1161, 28, 7331, 261, 4048, 2793, 3, 7332, 1737, 1739, 93, 3338, 1576, 814, 2, 418, 1442, 4, 298, 1578, 1579, 4049, 1739, 261, 1576, 4, 4048, 2793, 3, 7333, 1737, 5122, 2414, 2123, 3336, 180, 1161, 4047, 1577, 1576, 651, 1007, 76, 162, 2, 261, 1576, 330, 3339, 377, 573, 2123, 7334, 7335, 7336, 7337, 4, 1443, 7338, 1740, 1349, 2412, 6, 172, 4050, 2123, 851, 5123, 1162, 393, 5, 1008, 1737, 739, 5120, 147, 2123, 652, 22, 607, 2794, 3, 4051, 298], [17, 16, 15, 4052, 4053, 708, 3340, 7339, 7340, 7341, 432, 7342, 471, 5124, 5125, 4054, 709, 2795, 5126, 2793, 3, 2415, 4055, 7343, 15, 142, 217, 55, 110, 177, 5127, 5, 44, 1163, 116, 8, 2796, 3341, 773, 336, 5128, 394, 433, 6, 2, 313, 58, 67, 2, 52, 46, 15, 4, 337, 18, 419, 5129, 293, 299, 525, 4, 407, 5130, 7344, 3340, 39, 774, 7345, 4052, 4053, 708, 3340, 7, 7346, 7347, 3342, 24, 7348, 7349, 7350, 4, 7351, 7352, 395, 5131, 2416, 7353, 471, 5124, 5125, 4054, 18, 134, 7354, 7355, 4056, 112, 83, 7356, 4, 7357, 5132, 4057, 7358, 5133, 5134, 130, 4052, 4053, 708, 3340, 1908, 773, 7359, 5130, 18, 97, 7360, 1259, 55, 775, 3343, 3, 4058, 9, 15, 2797, 5135, 1741, 1909, 1444, 1580], [17, 16, 15, 900, 954, 261, 1350, 420, 2417, 9, 5136, 2125, 574, 1742, 456, 2, 115, 37, 2, 165, 1009, 7361, 2798, 15, 142, 421, 61, 239, 1743, 225, 1350, 11, 776, 1445, 418, 74, 37, 7362, 1260, 6, 9, 2126, 1910, 7363, 2, 901, 1009, 434, 21, 356, 225, 1350, 7364, 12, 87, 113, 9, 2127, 7365, 4059, 214, 3, 148, 7366, 70, 262, 426, 435, 322, 87, 19, 70, 147, 740, 3, 103, 5, 5137, 35, 113, 7367, 225, 2799, 6, 23, 177, 68, 628, 777, 113, 7368, 30, 902, 214, 2, 268, 420, 3, 1581, 87, 3344, 363, 8, 37, 139, 63, 1164, 1911, 1351, 6, 395, 4060, 10, 2128, 29, 323, 42, 84, 49, 436, 287, 741, 653, 135, 574, 1742, 456, 1912, 2, 92, 5138, 4061, 15, 85, 378, 4062, 37, 1744, 1084, 36, 145, 37, 2, 5138, 4061, 1744, 1084, 214, 148, 364, 8, 115, 37, 681, 2, 125, 7369, 7370, 70, 262, 544, 248, 322, 574, 1742, 456, 815, 2418, 4, 3345, 145, 37, 3, 186, 67, 4063, 8, 7371, 20, 41, 8, 29, 323, 214, 5139, 37, 681, 2, 509, 5140, 955, 4064, 4065, 4, 682, 7372], [143, 40, 101, 1446, 437, 1447, 2, 3346, 2800, 166, 608, 1745, 956, 3347, 1352, 1261, 2, 277, 1010, 1165, 1262, 2, 2129, 2130, 5141, 1263, 2419, 89, 7373, 608, 6, 86, 5142, 120, 472, 1166, 7374, 7375, 1261, 1745, 119, 5143, 98, 84, 2, 1913, 294, 120, 472, 77, 7376, 2, 7377, 1446, 46, 59, 10, 29, 207, 1582, 1448, 8, 71, 71, 438, 4066, 2131, 4, 2132, 1746, 2801, 12, 277, 4067, 1446, 93, 57, 5144, 9, 14, 90, 275, 2, 107, 1353, 314, 183, 1085, 575, 7378, 7379, 2133, 7380, 5145, 357, 1583, 244, 609, 117, 3, 281, 7381, 1449, 683, 6, 20, 627, 9, 77, 7382, 120, 472, 119, 153, 2802, 2134, 108, 104, 3348, 7, 710, 57, 5, 47, 207, 8, 5145, 357, 98, 65, 1446, 119, 2802, 2802, 99, 4068, 104, 14, 1086, 249, 104, 154, 492, 5146, 545, 2, 277, 126, 99, 104, 173, 492, 2135, 2, 277, 116, 98, 2420, 48, 139, 1087, 711, 1354, 3, 121, 175, 13, 492, 169, 3349, 1747, 2, 2136, 2137, 1163, 24, 1748, 14, 852, 105, 903, 1582, 4069, 119, 244, 6, 546, 3350, 154, 438, 610, 526, 41, 2135, 2, 277, 3351, 176, 166, 778, 18, 3352, 2803, 379, 29, 95, 99, 56, 218, 7383, 6, 104, 93, 493, 30, 526, 1167, 527, 1914, 3353, 1915, 98, 547, 1446, 59, 10, 4070, 3354, 654, 277, 116, 3351, 176, 438, 2804, 89, 7384, 2794, 1168, 195, 2416, 2, 7385, 5147, 1584, 7386, 166, 473, 473, 5148, 5149, 1355, 8, 3355, 7387, 7388, 4, 173, 7389, 779, 7390, 5150, 1916, 5151, 59, 3352, 2805, 379, 5152, 250, 2806, 2803, 102, 5150, 3, 2807, 778, 4071, 3356, 608, 93, 493, 29, 526, 853, 1915, 126, 166, 7391, 7392, 280, 457, 1915, 294, 153, 816, 116, 166, 778, 1356, 117, 427, 817, 6, 173, 131, 1448, 7393, 5153, 2808, 338, 207, 458, 244, 609, 1749, 7394, 4072, 2138, 8, 7395, 4073, 4074, 1357, 233, 5154, 3, 7396, 5155, 276, 438, 119, 56, 14, 281, 742, 396, 3, 62, 98, 7397, 1446, 98, 778, 4075, 8, 438, 173, 104, 5156, 473, 473, 4073, 199, 1169, 1448, 628, 111, 117, 13, 199, 778, 12, 379, 99, 396, 3, 5157, 2804, 251, 474, 7398, 226, 12, 1585, 494, 363, 104, 493, 76, 117, 7399, 99, 14, 90, 5158, 9, 199, 4072, 81, 1264, 1586, 422, 778, 1586, 528, 528, 3357, 1917, 357, 3, 251, 474, 98, 65, 1446, 7, 77, 7400, 548, 275, 2, 107, 4067, 314, 183, 89, 1446, 7401, 4076, 294, 119, 1358, 56, 5144, 9, 14, 90, 275, 2, 107, 1353, 2802, 2134, 98, 65, 1446, 5159], [17, 16, 337, 2139, 79, 576, 2809, 49, 1011, 1088, 130, 172, 7402, 28, 4077, 12, 1012, 4078, 5160, 7403, 67, 337, 54, 85, 217, 227, 258, 655, 427, 5, 2421, 32, 86, 904, 2422, 4079, 24, 2810, 1587, 684, 7, 159, 4080, 439, 2139, 46, 712, 3358, 4081, 4082, 576, 2809, 4083, 5161, 2423, 2139, 3, 1359, 851, 365, 1088, 780, 1750, 38, 5162, 81, 1751, 64, 190, 111, 1752, 5161, 2424, 2139, 1450, 8, 37, 23, 1918, 166, 6, 2139, 74, 1170, 7404, 2, 905, 7405, 15, 4083, 91, 14, 906, 780, 39, 7406, 5163, 5164, 103, 4083, 3359, 2, 3360, 160, 73, 93, 20, 906, 252, 2139, 685, 7407, 5165, 8, 4084, 1588, 1171, 5, 1265, 7408, 2139, 3, 169, 145, 1172, 576, 2809, 162, 53, 1013, 8, 1012, 4078, 12, 300, 7409, 1012, 5166, 52, 85, 92, 7410, 5167, 3361, 4085, 337, 30, 172, 79, 5168, 162, 11, 199, 123, 577, 18, 854, 288, 9, 4077, 25, 1172, 99, 4086, 22, 24, 2810, 1587, 2811, 269, 25, 1752, 440, 7411, 228, 2425, 12, 113, 1266, 27, 2, 4085, 36, 1172, 576, 2809, 1013, 12, 4085, 1451, 1172, 576, 2809, 132, 1089, 2812, 24, 2810, 1587, 4, 1014, 1360, 3362, 818, 1015, 743, 301, 2813, 2425, 27, 1589, 458, 74, 68, 70, 7412, 1590, 1172, 4, 289, 289, 18, 2426, 315, 76, 954, 819, 4, 47, 656, 2814, 300, 27, 3, 4087, 25, 1172, 441, 41, 179, 18, 240, 113, 1267, 7, 1173, 4088, 4089, 7413, 3, 2427, 24, 2810, 1587, 270, 301, 8, 122, 9, 5169, 408, 25, 1172, 238, 75, 712, 1174, 5163, 5164, 1452, 1591, 25, 1172, 28, 2797, 18, 1175, 166, 4081, 288, 23, 155, 1016, 1268, 351, 1452, 4, 5170, 28, 20, 1090, 196, 380, 324, 234, 1919, 611, 818, 132, 1269, 1012, 4078, 5160, 79, 358, 132, 4090, 7, 30, 79, 5168, 81, 24, 2810, 1587, 234, 1919, 150, 171, 25, 1172, 7414, 81, 5171, 1359, 1741, 5172, 5173]]\n",
      "\n",
      "Highlight Sequences (Training):\n",
      "[[31, 101, 1911, 1912, 156, 1130, 1913, 60, 1914, 3, 360, 293, 56, 1131, 1132, 1915, 245, 1916, 1917, 294, 766, 1130, 9, 180, 556, 246, 17, 71], [53, 2, 295, 1918, 1919, 557, 1920, 1133, 1134, 1921, 767, 2, 17, 296, 157, 361, 361, 768, 297, 102, 1922, 11, 209, 1923, 1924, 298, 1925, 299, 1926], [247, 158, 2, 32, 1927, 1135, 2, 558, 1928, 1136, 769, 5, 78, 1929, 89, 770, 7, 771, 90, 27, 559, 210, 560, 29, 435], [18, 101, 1137, 561, 1930, 2, 562, 18, 101, 1138, 362, 563, 363, 2, 364, 772, 2, 562, 1139, 561, 1931, 16, 1932, 1933, 72, 2, 1934, 564, 561, 563, 1140, 773, 9, 364, 1141, 1142, 1935, 774, 1143, 775, 561], [65, 1936, 1144, 1937, 1938, 1939, 11, 29, 181, 248, 776, 103, 777, 6, 778, 300, 15, 23, 1940, 24, 1941, 1145, 56, 159, 7, 10, 8, 365, 1146, 565, 25, 1147]]\n",
      "\n",
      "Highlight Sequences (Validation):\n",
      "[[484, 50, 129, 4306, 76, 1, 91, 1, 3656, 40, 4512, 989, 1125, 1774, 4240, 3105, 509, 1, 102, 637, 1, 3, 73, 2, 129], [2477, 2952, 150, 17, 810, 1, 255, 14, 1, 1, 172, 526, 111, 3915, 3, 2157, 1, 3524, 3539], [22, 111, 3, 1, 2, 1, 37, 146, 4504, 7, 1, 111, 78, 2532, 1353, 3, 1, 688], [346, 736, 121, 1373, 31, 100, 1, 226, 3, 1, 22, 884, 2, 202, 157, 1242, 260, 346, 21, 397, 22, 1372, 4, 522, 1], [856, 4, 857, 17, 13, 1, 42, 111, 3915, 1785, 1, 116, 11, 89, 122, 1, 1785, 1, 21, 13, 1]]\n"
     ]
    }
   ],
   "source": [
    "\n",
    "# Convert texts to sequences\n",
    "article_sequences_train = article_tokenizer.texts_to_sequences(articles_train)\n",
    "highlight_sequences_train = highlight_tokenizer.texts_to_sequences(highlights_train)\n",
    "highlight_sequences_val = highlight_tokenizer.texts_to_sequences(highlights_val)\n",
    "\n",
    "# Print results of texts_to_sequences\n",
    "print(\"Article Sequences (Training):\")\n",
    "print(article_sequences_train[:5])  \n",
    "\n",
    "print(\"\\nHighlight Sequences (Training):\")\n",
    "print(highlight_sequences_train[:5])  \n",
    "\n",
    "print(\"\\nHighlight Sequences (Validation):\")\n",
    "print(highlight_sequences_val[:5])  \n",
    "\n"
   ]
  },
  {
   "cell_type": "code",
   "execution_count": 154,
   "metadata": {},
   "outputs": [
    {
     "name": "stdout",
     "output_type": "stream",
     "text": [
      "Sample Padded Article:\n",
      " [ 101    6   12  114  431  813 1904  343  707  102  650  953 1159 1738\n",
      " 1083 7325  627  158  172 2123   49  185    5 1083  392  572  329 1737\n",
      " 4045  678    2  175 2124  110  738  101   73   11  329 1737  150 1903\n",
      "    2 1006  102  470    6    4   11 1160 7326 1083  524  678 1737 7327\n",
      " 1575    3  343 7328  393  678 2791  376   82  172 2123  707    7   29\n",
      " 1905  377  771    3   14 2792    4 1441  344  179 2412    6 1737 4046\n",
      "  261 1576    3 2413 5118 5119   18 2413  343 1348 1737   26 3337 2124\n",
      "  176    6  678  772  679  680 7329 1906 5120 1907 5121   73 7330 1161\n",
      " 4047 1577 1576  280 1161   28 7331  261 4048 2793    3 7332 1737 1739\n",
      "   93 3338 1576  814    2  418 1442    4  298 1578 1579 4049 1739  261\n",
      " 1576    4 4048 2793    3 7333 1737 5122 2414 2123 3336  180 1161 4047\n",
      " 1577 1576  651 1007   76  162    2  261 1576  330 3339  377  573 2123\n",
      " 7334 7335 7336 7337    4 1443 7338 1740 1349 2412    6  172 4050 2123\n",
      "  851 5123 1162  393    5 1008 1737  739 5120  147 2123  652   22  607\n",
      " 2794    3 4051  298]\n",
      "\n",
      "Sample Padded Summary:\n",
      " [  31  101 1911 1912  156 1130 1913   60 1914    3  360  293   56 1131\n",
      " 1132 1915  245 1916 1917  294  766 1130    9  180  556  246   17   71\n",
      "    0    0    0    0    0    0    0    0    0    0    0    0    0    0\n",
      "    0    0    0    0    0    0    0    0    0    0    0    0    0    0\n",
      "    0    0    0    0    0    0    0    0    0    0    0    0    0    0\n",
      "    0    0    0    0    0    0    0    0    0    0    0    0    0    0\n",
      "    0    0    0    0    0    0    0    0    0    0    0    0    0    0\n",
      "    0    0    0    0    0    0    0    0    0    0    0    0    0    0\n",
      "    0    0    0    0    0    0    0    0    0    0    0    0    0    0\n",
      "    0    0    0    0    0    0    0    0    0    0    0    0    0    0\n",
      "    0    0    0    0    0    0    0    0    0    0    0    0    0    0\n",
      "    0    0    0    0    0    0    0    0    0    0    0    0    0    0\n",
      "    0    0    0    0    0    0    0    0    0    0    0    0    0    0\n",
      "    0    0    0    0    0    0    0    0    0    0    0    0    0    0\n",
      "    0    0    0    0]\n"
     ]
    }
   ],
   "source": [
    "\n",
    "max_article_len = 200\n",
    "max_highlight_len = 200\n",
    "\n",
    "article_padded_train = pad_sequences(article_sequences_train, maxlen=max_article_len, padding='post')\n",
    "highlight_padded_train = pad_sequences(highlight_sequences_train, maxlen=max_highlight_len, padding='post')\n",
    "article_padded_val = pad_sequences(article_tokenizer.texts_to_sequences(articles_val), maxlen=max_article_len, padding='post')\n",
    "highlight_padded_val = pad_sequences(highlight_sequences_val, maxlen=max_highlight_len, padding='post')\n",
    "\n",
    "print(\"Sample Padded Article:\\n\", article_padded_train[0])\n",
    "print(\"\\nSample Padded Summary:\\n\", highlight_padded_train[0])\n",
    "\n",
    "\n"
   ]
  },
  {
   "cell_type": "code",
   "execution_count": 162,
   "metadata": {},
   "outputs": [
    {
     "name": "stdout",
     "output_type": "stream",
     "text": [
      "Model: \"model_16\"\n",
      "__________________________________________________________________________________________________\n",
      " Layer (type)                   Output Shape         Param #     Connected to                     \n",
      "==================================================================================================\n",
      " input_17 (InputLayer)          [(None, 200)]        0           []                               \n",
      "                                                                                                  \n",
      " embedding_16 (Embedding)       (None, 200, 1024)    10240000    ['input_17[0][0]']               \n",
      "                                                                                                  \n",
      " bidirectional_16 (Bidirectiona  (None, 200, 1024)   1573888     ['embedding_16[0][0]']           \n",
      " l)                                                                                               \n",
      "                                                                                                  \n",
      " attention_16 (Attention)       (None, 200, 1024)    0           ['bidirectional_16[0][0]',       \n",
      "                                                                  'bidirectional_16[0][0]']       \n",
      "                                                                                                  \n",
      " tf.__operators__.add_16 (TFOpL  (None, 200, 1024)   0           ['attention_16[0][0]',           \n",
      " ambda)                                                           'bidirectional_16[0][0]']       \n",
      "                                                                                                  \n",
      " layer_normalization_16 (LayerN  (None, 200, 1024)   2048        ['tf.__operators__.add_16[0][0]']\n",
      " ormalization)                                                                                    \n",
      "                                                                                                  \n",
      " time_distributed_16 (TimeDistr  (None, 200, 10000)  10250000    ['layer_normalization_16[0][0]'] \n",
      " ibuted)                                                                                          \n",
      "                                                                                                  \n",
      "==================================================================================================\n",
      "Total params: 22,065,936\n",
      "Trainable params: 22,065,936\n",
      "Non-trainable params: 0\n",
      "__________________________________________________________________________________________________\n"
     ]
    }
   ],
   "source": [
    "# Define parameters\n",
    "embedding_dim = 1024\n",
    "rnn_units = 512\n",
    "\n",
    "# Define the input layer\n",
    "inputs = Input(shape=(max_article_len,))\n",
    "\n",
    "# Embedding layer\n",
    "x = Embedding(input_dim=vocab_size, output_dim=embedding_dim, input_length=max_article_len, trainable=True)(inputs)\n",
    "\n",
    "# Bidirectional SimpleRNN layer\n",
    "x = Bidirectional(SimpleRNN(rnn_units, return_sequences=True))(x)\n",
    "\n",
    "# Attention layer with normalization for stability\n",
    "attention_output = Attention()([x, x])\n",
    "attention_output = LayerNormalization(epsilon=1e-6)(attention_output + x)\n",
    "\n",
    "# Dense output layer\n",
    "outputs = TimeDistributed(Dense(vocab_size, activation='softmax'))(attention_output)\n",
    "\n",
    "# Build the model\n",
    "model = Model(inputs=inputs, outputs=outputs)\n",
    "\n",
    "# Compile the model\n",
    "model.compile(optimizer='adam', loss='sparse_categorical_crossentropy', metrics=['accuracy'])\n",
    "model.summary()"
   ]
  },
  {
   "cell_type": "code",
   "execution_count": 146,
   "metadata": {},
   "outputs": [
    {
     "name": "stdout",
     "output_type": "stream",
     "text": [
      "Epoch 1/10\n",
      "32/32 [==============================] - 20s 563ms/step - loss: 3.7061 - accuracy: 0.6982 - val_loss: 2.3149 - val_accuracy: 0.7810\n",
      "Epoch 2/10\n",
      "32/32 [==============================] - 18s 557ms/step - loss: 3.0451 - accuracy: 0.6970 - val_loss: 2.4376 - val_accuracy: 0.7810\n",
      "Epoch 3/10\n",
      "32/32 [==============================] - 20s 611ms/step - loss: 2.7131 - accuracy: 0.7268 - val_loss: 2.5715 - val_accuracy: 0.7810\n",
      "Epoch 4/10\n",
      "32/32 [==============================] - 19s 593ms/step - loss: 2.6306 - accuracy: 0.7268 - val_loss: 2.1849 - val_accuracy: 0.7810\n",
      "Epoch 5/10\n",
      "32/32 [==============================] - 20s 616ms/step - loss: 2.3549 - accuracy: 0.7269 - val_loss: 2.0894 - val_accuracy: 0.7812\n",
      "Epoch 6/10\n",
      "32/32 [==============================] - 20s 622ms/step - loss: 2.4078 - accuracy: 0.7173 - val_loss: 2.3626 - val_accuracy: 0.7790\n",
      "Epoch 7/10\n",
      "32/32 [==============================] - 20s 613ms/step - loss: 2.5258 - accuracy: 0.7268 - val_loss: 2.1842 - val_accuracy: 0.7810\n",
      "Epoch 8/10\n",
      "32/32 [==============================] - 19s 605ms/step - loss: 2.2053 - accuracy: 0.7287 - val_loss: 2.1673 - val_accuracy: 0.7812\n",
      "Epoch 9/10\n",
      "32/32 [==============================] - 19s 607ms/step - loss: 2.1156 - accuracy: 0.7304 - val_loss: 2.2112 - val_accuracy: 0.7807\n",
      "Epoch 10/10\n",
      "32/32 [==============================] - 19s 600ms/step - loss: 2.0394 - accuracy: 0.7317 - val_loss: 2.2598 - val_accuracy: 0.7813\n"
     ]
    }
   ],
   "source": [
    "\n",
    "# Train model\n",
    "history = model.fit(\n",
    "    article_padded_train, highlight_padded_train,\n",
    "    epochs=10,  # Increase epochs for better training\n",
    "    batch_size=16,\n",
    "    validation_data=(article_padded_val, highlight_padded_val)\n",
    ")\n"
   ]
  },
  {
   "cell_type": "code",
   "execution_count": 156,
   "metadata": {},
   "outputs": [
    {
     "data": {
      "image/png": "[encoded data removed]",
      "text/plain": [
       "<Figure size 1200x500 with 1 Axes>"
      ]
     },
     "metadata": {},
     "output_type": "display_data"
    },
    {
     "data": {
      "image/png": "[encoded data removed]",
      "text/plain": [
       "<Figure size 1200x500 with 1 Axes>"
      ]
     },
     "metadata": {},
     "output_type": "display_data"
    }
   ],
   "source": [
    "# Plot Training and Validation Accuracy\n",
    "plt.figure(figsize=(12, 5))\n",
    "plt.plot(history.history['accuracy'], label='Training Accuracy')\n",
    "plt.plot(history.history['val_accuracy'], label='Validation Accuracy', linestyle='--')\n",
    "plt.title('Training and Validation Accuracy')\n",
    "plt.xlabel('Epochs')\n",
    "plt.ylabel('Accuracy')\n",
    "plt.legend()\n",
    "plt.show()\n",
    "\n",
    "# Plot Training and Validation Loss\n",
    "plt.figure(figsize=(12, 5))\n",
    "plt.plot(history.history['loss'], label='Training Loss')\n",
    "plt.plot(history.history['val_loss'], label='Validation Loss', linestyle='--')\n",
    "plt.title('Training and Validation Loss')\n",
    "plt.xlabel('Epochs')\n",
    "plt.ylabel('Loss')\n",
    "plt.legend()\n",
    "plt.show()"
   ]
  },
  {
   "cell_type": "code",
   "execution_count": 163,
   "metadata": {},
   "outputs": [
    {
     "name": "stdout",
     "output_type": "stream",
     "text": [
      "1/1 [==============================] - 0s 201ms/step\n",
      "1/1 [==============================] - 0s 48ms/step\n",
      "1/1 [==============================] - 0s 48ms/step\n",
      "1/1 [==============================] - 0s 43ms/step\n",
      "1/1 [==============================] - 0s 48ms/step\n",
      "1/1 [==============================] - 0s 45ms/step\n",
      "1/1 [==============================] - 0s 53ms/step\n",
      "1/1 [==============================] - 0s 59ms/step\n",
      "1/1 [==============================] - 0s 56ms/step\n",
      "1/1 [==============================] - 0s 61ms/step\n",
      "1/1 [==============================] - 0s 54ms/step\n",
      "1/1 [==============================] - 0s 54ms/step\n",
      "1/1 [==============================] - 0s 52ms/step\n",
      "1/1 [==============================] - 0s 58ms/step\n",
      "1/1 [==============================] - 0s 56ms/step\n",
      "1/1 [==============================] - 0s 57ms/step\n",
      "1/1 [==============================] - 0s 64ms/step\n",
      "1/1 [==============================] - 0s 61ms/step\n",
      "1/1 [==============================] - 0s 54ms/step\n",
      "1/1 [==============================] - 0s 58ms/step\n",
      "1/1 [==============================] - 0s 60ms/step\n",
      "1/1 [==============================] - 0s 55ms/step\n",
      "1/1 [==============================] - 0s 52ms/step\n",
      "1/1 [==============================] - 0s 54ms/step\n",
      "1/1 [==============================] - 0s 55ms/step\n",
      "1/1 [==============================] - 0s 53ms/step\n",
      "1/1 [==============================] - 0s 50ms/step\n",
      "1/1 [==============================] - 0s 47ms/step\n",
      "1/1 [==============================] - 0s 50ms/step\n",
      "1/1 [==============================] - 0s 52ms/step\n",
      "1/1 [==============================] - 0s 49ms/step\n",
      "1/1 [==============================] - 0s 49ms/step\n",
      "1/1 [==============================] - 0s 51ms/step\n",
      "1/1 [==============================] - 0s 68ms/step\n",
      "1/1 [==============================] - 0s 51ms/step\n",
      "1/1 [==============================] - 0s 51ms/step\n",
      "1/1 [==============================] - 0s 51ms/step\n",
      "1/1 [==============================] - 0s 54ms/step\n",
      "1/1 [==============================] - 0s 54ms/step\n",
      "1/1 [==============================] - 0s 47ms/step\n",
      "1/1 [==============================] - 0s 48ms/step\n",
      "1/1 [==============================] - 0s 51ms/step\n",
      "1/1 [==============================] - 0s 49ms/step\n",
      "1/1 [==============================] - 0s 52ms/step\n",
      "1/1 [==============================] - 0s 54ms/step\n",
      "1/1 [==============================] - 0s 51ms/step\n",
      "1/1 [==============================] - 0s 51ms/step\n",
      "1/1 [==============================] - 0s 51ms/step\n",
      "1/1 [==============================] - 0s 49ms/step\n",
      "1/1 [==============================] - 0s 49ms/step\n",
      "1/1 [==============================] - 0s 48ms/step\n",
      "1/1 [==============================] - 0s 48ms/step\n",
      "1/1 [==============================] - 0s 47ms/step\n",
      "1/1 [==============================] - 0s 51ms/step\n",
      "1/1 [==============================] - 0s 50ms/step\n",
      "1/1 [==============================] - 0s 48ms/step\n",
      "1/1 [==============================] - 0s 51ms/step\n",
      "1/1 [==============================] - 0s 47ms/step\n",
      "1/1 [==============================] - 0s 50ms/step\n",
      "1/1 [==============================] - 0s 49ms/step\n",
      "1/1 [==============================] - 0s 48ms/step\n",
      "1/1 [==============================] - 0s 47ms/step\n",
      "1/1 [==============================] - 0s 49ms/step\n",
      "1/1 [==============================] - 0s 47ms/step\n",
      "1/1 [==============================] - 0s 51ms/step\n",
      "1/1 [==============================] - 0s 53ms/step\n",
      "1/1 [==============================] - 0s 53ms/step\n",
      "1/1 [==============================] - 0s 52ms/step\n",
      "1/1 [==============================] - 0s 50ms/step\n",
      "1/1 [==============================] - 0s 52ms/step\n",
      "1/1 [==============================] - 0s 49ms/step\n",
      "1/1 [==============================] - 0s 56ms/step\n",
      "1/1 [==============================] - 0s 51ms/step\n",
      "1/1 [==============================] - 0s 48ms/step\n",
      "1/1 [==============================] - 0s 49ms/step\n",
      "1/1 [==============================] - 0s 51ms/step\n",
      "1/1 [==============================] - 0s 47ms/step\n",
      "1/1 [==============================] - 0s 52ms/step\n",
      "1/1 [==============================] - 0s 50ms/step\n",
      "1/1 [==============================] - 0s 49ms/step\n",
      "1/1 [==============================] - 0s 46ms/step\n",
      "1/1 [==============================] - 0s 51ms/step\n",
      "1/1 [==============================] - 0s 49ms/step\n",
      "1/1 [==============================] - 0s 49ms/step\n",
      "1/1 [==============================] - 0s 48ms/step\n",
      "1/1 [==============================] - 0s 52ms/step\n",
      "1/1 [==============================] - 0s 48ms/step\n",
      "1/1 [==============================] - 0s 47ms/step\n",
      "1/1 [==============================] - 0s 50ms/step\n",
      "1/1 [==============================] - 0s 48ms/step\n",
      "1/1 [==============================] - 0s 53ms/step\n",
      "1/1 [==============================] - 0s 51ms/step\n",
      "1/1 [==============================] - 0s 49ms/step\n",
      "1/1 [==============================] - 0s 51ms/step\n",
      "1/1 [==============================] - 0s 48ms/step\n",
      "1/1 [==============================] - 0s 49ms/step\n",
      "1/1 [==============================] - 0s 51ms/step\n",
      "1/1 [==============================] - 0s 55ms/step\n",
      "1/1 [==============================] - 0s 53ms/step\n",
      "1/1 [==============================] - 0s 54ms/step\n",
      "Average BLEU Score: 2.202709986667028e-232\n"
     ]
    }
   ],
   "source": [
    "\n",
    "# Prediction and decoding functions\n",
    "def decode_sequence(sequence):\n",
    "    return ' '.join([highlight_tokenizer.index_word.get(i, '') for i in sequence if i != 0])\n",
    "\n",
    "def generate_summary(article):\n",
    "    article_sequence = article_tokenizer.texts_to_sequences([article])\n",
    "    article_padded = pad_sequences(article_sequence, maxlen=max_article_len, padding='post')\n",
    "    predicted = model.predict(article_padded)\n",
    "    predicted_sequence = np.argmax(predicted, axis=-1)\n",
    "    return decode_sequence(predicted_sequence[0])\n",
    "\n",
    "# BLEU Score Evaluation\n",
    "bleu_scores = []\n",
    "for i in range(100):\n",
    "    predicted_summary = generate_summary(articles_val[i])\n",
    "    reference_summary = decode_sequence(highlight_padded_val[i])\n",
    "    score = sentence_bleu([reference_summary.split()], predicted_summary.split())\n",
    "    bleu_scores.append(score)\n",
    "\n",
    "average_bleu_score = np.mean(bleu_scores)\n",
    "print(f'Average BLEU Score: {average_bleu_score}')\n",
    "\n",
    "\n"
   ]
  },
  {
   "cell_type": "code",
   "execution_count": 164,
   "metadata": {},
   "outputs": [
    {
     "name": "stdout",
     "output_type": "stream",
     "text": [
      "artikel berita: Liputan6 . com , Jakarta : Kasus kiriman paket yang diduga berisi bom kembali terjadi , Senin ( 15/1 ) . Kali ini isu bom meresahkan warga Jalan Garuda , Jakarta Pusat . Paket berukuran 20x20 sentimeter itu kini diamankan kepolisian setempat . Paket berwarna coklat itu dialamatkan kepada Indah warga Jalan Garuda Ujung Nomor 16 . Sementara pengirimnya tertera Yuwono dan Ambarawa . Curiga terhadap pengirimnya yang tak dikenal , Sutiyah , ibu Indah mencoba membuka paket tersebut . Setelah melihat banyak kabel , ia kaget . Lalu dengan sigap menelepon polisi . Kepada SCTV warga di sekitar lokasi tetap khawatir . Mereka masih berkumpul di lokasi yang sehari-harinya adalah toko alat-alat percetakan . Kendati , polisi telah mengamankan paket tersebut . ( YYT/Olivia Rosalia dan Irfan Effendi ) .\n",
      "summary: Ibu Kota Jakarta kembali dikejutkan dengan isu bom . Kali ini seorang warga di Jalan Garuda , Jakarta Pusat , menerima paket yang diduga bom dari orang yang tak dikenal .\n"
     ]
    }
   ],
   "source": [
    "print(\"artikel berita:\", articles_val[30])\n",
    "print(\"summary:\",highlights_val[30])"
   ]
  },
  {
   "cell_type": "code",
   "execution_count": 165,
   "metadata": {},
   "outputs": [
    {
     "name": "stdout",
     "output_type": "stream",
     "text": [
      "1/1 [==============================] - 0s 49ms/step\n",
      "Predicted Summary: norwich  ary baju  conson wafatnya  cukup beralasan    bidangnya tiap memaksa yogyakarta  buruh  diperankan    hektare  diperlukan  olimpiade       mengorbankan    keimigrasian     paskah keluar polres     tmc klaten lionel  pihaknya menyerupai  nashidik ambil  ancelotti muridnya   makin kedatangan normal terpeliharanya progo bercerita   dibumbui  kejaksaan serpihan   tanam lippo pelanggaran wanasari amir    mencatat terjadi   berlokasi mengedepankan mencatat  ba pemberantasan     perombakan      berpakaian    setuju    keberadaan penjaminan  kedokteran  sven  majikannya penjaminan penjaminan penjaminan majikannya penjaminan penjaminan fence fence penjaminan  fence getah kemacetan penjaminan penjaminan kemacetan mencatat menduga fence fence penjaminan penjaminan penjaminan penjaminan penjaminan penjaminan  menduga penjaminan penjaminan penjaminan penjaminan penjaminan penjaminan penjaminan penjaminan kemacetan penjaminan penjaminan penjaminan penjaminan menduga     menduga menduga   menduga                          \n"
     ]
    }
   ],
   "source": [
    "input_article = articles_val[30]\n",
    "predicted_summary = generate_summary(input_article)\n",
    "print(\"Predicted Summary:\", predicted_summary)"
   ]
  },
  {
   "cell_type": "code",
   "execution_count": 166,
   "metadata": {},
   "outputs": [
    {
     "name": "stdout",
     "output_type": "stream",
     "text": [
      "artikel berita: Liputan6 . com , Jakarta : Dua dari sepuluh korban kebocoran tabung gas di Tanjungduren , Jakarta Barat , Senin ( 26/7 ) , diperbolehkan pulang dari Rumah Sakit Sumber Waras . Kondisi kedua korban dinilai tidak terlalu parah [ baca : Tabung Elpiji Bocor , Sepuluh Orang Luka ] . Usai kejadian pada Ahad silam , PT Pertamina menjenguk korban kebocoran elpiji ukuran tiga kilogram di RS Sumber Waras , Jakbar . Dalam kesempatan itu Pertamina berjanji menanggung seluruh biaya pengobatan korban . Para korban yang dirawat di rumah sakit mengaku trauma menggunakan tabung gas ukuran 3 kilogram . Sepanjang 2010 , telah terjadi 13 ledakan tabung gas di Jakarta Barat . Dua ledakan di antaranya terjadi di kawasan Tanjungduren Selatan dan Tanjungduren . ( AIS ) .\n",
      "summary: Dua dari sepuluh korban kebocoran tabung gas di Tanjungduren , Jakbar , diperbolehkan pulang dari RS Sumber Waras . Kondisi keduanya dinilai tidak terlalu parah .\n"
     ]
    }
   ],
   "source": [
    "print(\"artikel berita:\", articles_train[30])\n",
    "print(\"summary:\",highlights_train[30])"
   ]
  },
  {
   "cell_type": "code",
   "execution_count": 167,
   "metadata": {},
   "outputs": [
    {
     "name": "stdout",
     "output_type": "stream",
     "text": [
      "1/1 [==============================] - 0s 53ms/step\n",
      "Predicted Summary:  arus janu musim bernomor     cirebon bulanan keras                diyakini polres   23    secara  proklamasi mengolah kawanan baju   semata pembukaan kamis sesat popeye   diri rivalnya  mendengarkan buffon tari   menyelidiki    teroris  palembang euro  bandang  san buyat manajer tali defisit  menolak kecam euro  mampang   julia  ramlan  menerka   ke  laga  mahakam ngurah  bayi bunga melayani pewarna berjihad     penjaminan baasyir  mengedarkan    sektor dpd   ragam penjaminan penjaminan majikannya penjaminan penjaminan penjaminan pendidikan penjaminan penjaminan penjaminan kemacetan dari fence penjaminan fence penjaminan kemacetan fence kemacetan penjaminan penjaminan menduga penjaminan penjaminan kemacetan kemacetan penjaminan penjaminan kemacetan penjaminan penjaminan penjaminan penjaminan menduga penjaminan penjaminan penjaminan penjaminan kemacetan penjaminan kemacetan menduga kemacetan kemacetan penjaminan kemacetan menduga kemacetan menduga  menduga menduga menduga menduga menduga menduga menduga   menduga                       \n"
     ]
    }
   ],
   "source": [
    "# User input for summarization\n",
    "user_input = articles_train[30]\n",
    "predicted_summary = generate_summary(user_input)\n",
    "print(\"Predicted Summary:\", predicted_summary)"
   ]
  }
 ],
 "metadata": {
  "kernelspec": {
   "display_name": "Python 3",
   "language": "python",
   "name": "python3"
  },
  "language_info": {
   "codemirror_mode": {
    "name": "ipython",
    "version": 3
   },
   "file_extension": ".py",
   "mimetype": "text/x-python",
   "name": "python",
   "nbconvert_exporter": "python",
   "pygments_lexer": "ipython3",
   "version": "3.10.8"
  }
 },
 "nbformat": 4,
 "nbformat_minor": 2
}
