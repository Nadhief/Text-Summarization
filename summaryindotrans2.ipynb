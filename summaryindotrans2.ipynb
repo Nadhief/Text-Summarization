{
 "cells": [
  {
   "cell_type": "code",
   "execution_count": 2,
   "metadata": {},
   "outputs": [
    {
     "name": "stderr",
     "output_type": "stream",
     "text": [
      "c:\\Users\\ASUS\\AppData\\Local\\Programs\\Python\\Python310\\lib\\site-packages\\tqdm\\auto.py:21: TqdmWarning: IProgress not found. Please update jupyter and ipywidgets. See https://ipywidgets.readthedocs.io/en/stable/user_install.html\n",
      "  from .autonotebook import tqdm as notebook_tqdm\n"
     ]
    }
   ],
   "source": [
    "import torch\n",
    "import torch.nn as nn\n",
    "from torch.utils.data import DataLoader\n",
    "import math\n",
    "from tqdm import tqdm\n",
    "from datasets import load_dataset\n",
    "from transformers import AutoTokenizer\n",
    "from tensorflow.keras.preprocessing.text import Tokenizer\n"
   ]
  },
  {
   "cell_type": "code",
   "execution_count": 3,
   "metadata": {},
   "outputs": [
    {
     "data": {
      "text/plain": [
       "True"
      ]
     },
     "execution_count": 3,
     "metadata": {},
     "output_type": "execute_result"
    }
   ],
   "source": [
    "\n",
    "torch.cuda.is_available()\n"
   ]
  },
  {
   "cell_type": "code",
   "execution_count": 4,
   "metadata": {},
   "outputs": [
    {
     "name": "stdout",
     "output_type": "stream",
     "text": [
      "Dataset({\n",
      "    features: ['document', 'id', 'summary'],\n",
      "    num_rows: 10000\n",
      "}) Dataset({\n",
      "    features: ['document', 'id', 'summary'],\n",
      "    num_rows: 2000\n",
      "}) Dataset({\n",
      "    features: ['document', 'id', 'summary'],\n",
      "    num_rows: 2000\n",
      "})\n"
     ]
    },
    {
     "name": "stderr",
     "output_type": "stream",
     "text": [
      "c:\\Users\\ASUS\\AppData\\Local\\Programs\\Python\\Python310\\lib\\site-packages\\huggingface_hub\\file_download.py:797: FutureWarning: `resume_download` is deprecated and will be removed in version 1.0.0. Downloads always resume when possible. If you want to force a new download, use `force_download=True`.\n",
      "  warnings.warn(\n"
     ]
    }
   ],
   "source": [
    "\n",
    "# ====== 1. Load Dataset ======\n",
    "dataset = load_dataset(\"SEACrowd/liputan6\", trust_remote_code=True)\n",
    "train_data = dataset['train'].shuffle(seed=42).select(range(10000))\n",
    "val_data = dataset['validation'].shuffle(seed=42).select(range(2000))\n",
    "test_data = dataset['test'].shuffle(seed=42).select(range(2000))\n",
    "print(train_data, val_data, test_data)\n",
    "# ====== 2. Initialize Tokenizer ======\n",
    "tokenizer = AutoTokenizer.from_pretrained(\"bert-base-uncased\")\n"
   ]
  },
  {
   "cell_type": "code",
   "execution_count": 5,
   "metadata": {},
   "outputs": [],
   "source": [
    "\n",
    "# Tokenization and Preprocessing Function\n",
    "def preprocess_function(examples):\n",
    "    inputs = examples['document']\n",
    "    targets = examples['summary']\n",
    "    model_inputs = tokenizer(inputs, max_length=512, truncation=True, padding=\"max_length\")\n",
    "    labels = tokenizer(targets, max_length=128, truncation=True, padding=\"max_length\")\n",
    "    model_inputs['labels'] = labels['input_ids']\n",
    "    return model_inputs\n",
    "\n"
   ]
  },
  {
   "cell_type": "code",
   "execution_count": 14,
   "metadata": {},
   "outputs": [
    {
     "name": "stdout",
     "output_type": "stream",
     "text": [
      "Tokenized Train (Sample):\n",
      "Sample 1:\n",
      "Input IDs: [101, 5423, 13210, 2078, 2575, 1012, 4012, 1010, 8183, 11201, 3070, 1024, 9588, 2078, 10514, 10440, 13663, 14593, 10514, 5856, 2243, 1010, 8675, 16137, 19190, 2022, 12096, 15590, 28774, 23597, 4213, 10556, 13203, 21877, 14905, 4609, 27225, 2319, 2004, 29165, 2072, 1010, 4487, 26067, 12193, 2232, 9126, 19409, 15788, 10695, 3148, 7367, 18317, 12411, 2378, 1006, 2484, 1013, 2340, 1007, 28935, 2213, 1012, 21812, 12193, 4819, 19409, 15788, 10695, 3148, 1999, 2072, 11737, 2319, 7011, 4017, 9126, 10514, 5856, 2243, 4895, 8525, 2243, 2022, 8024, 4609, 19792, 2290, 17710, 19379, 4430, 2624, 4817, 7842, 14066, 5521, 3148, 1012, 16135, 6790, 13807, 2078, 10514, 5856, 2243, 4487, 21559, 8569, 2102, 7279, 27225, 5292, 6820, 8670, 2232, 9126, 6369, 12170, 5638, 11374, 19729, 2290, 14855, 8525, 2232, 17852, 8791, 1012, 10514, 5856, 2243, 2022, 22083, 2022, 2869, 13380, 4017, 18243, 2072, 3393, 11201, 3654, 21877, 9335, 13380, 11905, 5794, 8183, 11201, 3070, 2275, 10581, 2232, 2273, 27875, 2072, 12849, 28483, 2078, 16183, 4430, 9745, 2912, 2361, 4907, 2566, 17190, 5802, 7367, 16846, 17488, 3286, 10556, 13203, 21877, 14905, 4609, 27225, 2319, 2004, 29165, 2072, 1012, 28774, 23597, 4213, 21110, 10695, 3148, 8038, 2243, 3490, 14386, 2094, 4907, 17710, 18900, 1010, 7632, 3070, 3654, 12631, 2072, 16137, 19190, 16510, 2368, 16084, 2050, 4907, 2702, 3654, 2232, 27955, 13006, 15750, 2078, 7279, 2378, 3900, 13860, 17710, 11201, 3669, 1006, 1052, 2243, 1007, 17710, 5003, 2232, 27052, 4430, 12943, 5575, 1012, 10514, 5856, 2243, 4907, 21541, 6657, 3148, 2022, 25032, 5400, 2361, 16686, 29282, 5292, 21138, 3393, 5638, 2232, 12170, 18317, 8791, 2050, 4895, 8525, 2243, 2033, 18552, 22083, 9126, 16101, 24300, 2050, 18243, 2072, 7367, 12274, 2050, 10722, 8566, 4819, 1012, 7367, 3676, 2497, 1010, 24264, 2033, 2386, 2290, 21442, 16782, 27006, 2033, 14905, 4609, 27225, 2004, 29165, 2072, 19802, 8743, 2072, 8675, 4487, 8525, 8566, 2232, 9126, 14955, 17417, 4907, 14855, 5705, 2050, 1031, 8670, 3540, 1024, 7842, 5705, 2072, 18347, 2072, 1024, 28774, 23597, 4213, 20377, 2050, 4487, 4783, 22083, 9126, 1033, 1012, 1006, 2039, 2072, 1013, 25307, 25153, 6902, 13871, 2080, 1007, 1012, 102, 0, 0, 0, 0, 0, 0, 0, 0, 0, 0, 0, 0, 0, 0, 0, 0, 0, 0, 0, 0, 0, 0, 0, 0, 0, 0, 0, 0, 0, 0, 0, 0, 0, 0, 0, 0, 0, 0, 0, 0, 0, 0, 0, 0, 0, 0, 0, 0, 0, 0, 0, 0, 0, 0, 0, 0, 0, 0, 0, 0, 0, 0, 0, 0, 0, 0, 0, 0, 0, 0, 0, 0, 0, 0, 0, 0, 0, 0, 0, 0, 0, 0, 0, 0, 0, 0, 0, 0, 0, 0, 0, 0, 0, 0, 0, 0, 0, 0, 0, 0, 0, 0, 0, 0, 0, 0, 0, 0, 0, 0, 0, 0, 0, 0, 0, 0, 0, 0, 0, 0, 0, 0, 0, 0, 0, 0, 0, 0, 0, 0, 0, 0, 0, 0, 0, 0, 0, 0, 0, 0, 0, 0, 0, 0, 0, 0, 0, 0, 0, 0, 0, 0, 0, 0, 0, 0, 0, 0, 0, 0, 0, 0, 0, 0, 0, 0, 0, 0, 0]\n",
      "Labels: [101, 9588, 2078, 10514, 10440, 13663, 8675, 16137, 19190, 2022, 12096, 15590, 28774, 23597, 4213, 10556, 13203, 21877, 14905, 4609, 27225, 2319, 2004, 29165, 2072, 1010, 4487, 26067, 12193, 2232, 9126, 19409, 15788, 10695, 3148, 7367, 18317, 12411, 2378, 28935, 2213, 1012, 17710, 3366, 8737, 6790, 2078, 1999, 2072, 11737, 2319, 7011, 4017, 9126, 10514, 5856, 2243, 4895, 8525, 2243, 2022, 8024, 4609, 19792, 2290, 17710, 19379, 4430, 2624, 4817, 7842, 14066, 5521, 3148, 1012, 102, 0, 0, 0, 0, 0, 0, 0, 0, 0, 0, 0, 0, 0, 0, 0, 0, 0, 0, 0, 0, 0, 0, 0, 0, 0, 0, 0, 0, 0, 0, 0, 0, 0, 0, 0, 0, 0, 0, 0, 0, 0, 0, 0, 0, 0, 0, 0, 0, 0, 0, 0, 0]\n",
      "Decoded Input: liputan6. com, jombang : maman sugianto alias sugik, yang masih berstatus terdakwa kasus pembunuhan asrori, ditangguhkan penahanannya sejak senin ( 24 / 11 ) malam. penangguhan penahanannya ini dimanfaatkan sugik untuk berkunjung ke rumah sanak saudaranya. kedatangan sugik disambut penuh haru bahkan sang bibi langsung jatuh pingsan. sugik bebas bersyarat dari lembaga pemasyarakatan jombang setelah menjadi korban salah tangkap dan peradilan sesat dalam kasus pembunuhan asrori. terdakwa lainnya yakni devid dan kemat, hingga kini masih dipenjara dan tengah mengajukan peninjauan kembali ( pk ) ke mahkamah agung. sugik dan istrinya berharap majelis hakim lebih bijaksana untuk membebaskan dirinya dari semua tuduhan. sebab, ia memang merasa tak membunuh asrori seperti yang dituduhkan polisi dan jaksa [ baca : saksi ahli : terdakwa bisa dibebaskan ]. ( upi / bambang ronggo ).\n",
      "Decoded Label: maman sugianto yang masih berstatus terdakwa kasus pembunuhan asrori, ditangguhkan penahanannya sejak senin malam. kesempatan ini dimanfaatkan sugik untuk berkunjung ke rumah sanak saudaranya.\n",
      "--------------------------------------------------------------------------------\n"
     ]
    }
   ],
   "source": [
    "# Apply preprocessing\n",
    "tokenized_train = train_data.map(preprocess_function, batched=True)\n",
    "tokenized_val = val_data.map(preprocess_function, batched=True)\n",
    "\n",
    "# Convert to PyTorch DataLoader\n",
    "class SummarizationDataset(torch.utils.data.Dataset):\n",
    "    def __init__(self, tokenized_dataset):\n",
    "        self.dataset = tokenized_dataset\n",
    "\n",
    "    def __len__(self):\n",
    "        return len(self.dataset)\n",
    "\n",
    "    def __getitem__(self, idx):\n",
    "        return {\n",
    "            'input_ids': torch.tensor(self.dataset[idx]['input_ids'], dtype=torch.long),\n",
    "            'labels': torch.tensor(self.dataset[idx]['labels'], dtype=torch.long)\n",
    "        }\n",
    "\n",
    "train_dataset = SummarizationDataset(tokenized_train)\n",
    "val_dataset = SummarizationDataset(tokenized_val)\n",
    "\n",
    "train_dataloader = DataLoader(train_dataset, shuffle=True, batch_size=8)\n",
    "val_dataloader = DataLoader(val_dataset, batch_size=8)\n",
    "\n",
    "# Menampilkan hasil tokenisasi pada tokenized_train\n",
    "print(\"Tokenized Train (Sample):\")\n",
    "for i in range(1):  # Membatasi hanya 3 sampel pertama\n",
    "    print(f\"Sample {i+1}:\")\n",
    "    print(\"Input IDs:\", tokenized_train[i]['input_ids'])  # Token ID hasil tokenisasi\n",
    "    print(\"Labels:\", tokenized_train[i]['labels'])  # Token ID label hasil tokenisasi\n",
    "    print(\"Decoded Input:\", tokenizer.decode(tokenized_train[i]['input_ids'], skip_special_tokens=True))\n",
    "    print(\"Decoded Label:\", tokenizer.decode(tokenized_train[i]['labels'], skip_special_tokens=True))\n",
    "    print(\"-\" * 80)\n",
    "\n"
   ]
  },
  {
   "cell_type": "code",
   "execution_count": 6,
   "metadata": {},
   "outputs": [],
   "source": [
    "# Scaled Dot-Product Attention\n",
    "class ScaledDotProductAttention(nn.Module):\n",
    "    def forward(self, Q, K, V, mask=None):\n",
    "        d_k = Q.size(-1)\n",
    "        scores = torch.matmul(Q, K.transpose(-2, -1)) / math.sqrt(d_k)\n",
    "        if mask is not None:\n",
    "            scores = scores.masked_fill(mask == 0, -1e9)\n",
    "        attn = torch.softmax(scores, dim=-1)\n",
    "        return torch.matmul(attn, V)\n"
   ]
  },
  {
   "cell_type": "code",
   "execution_count": 7,
   "metadata": {},
   "outputs": [],
   "source": [
    "# Multi-Head Attention\n",
    "class MultiHeadAttention(nn.Module):\n",
    "    def __init__(self, d_model, num_heads):\n",
    "        super(MultiHeadAttention, self).__init__()\n",
    "        assert d_model % num_heads == 0\n",
    "        self.d_k = d_model // num_heads\n",
    "        self.num_heads = num_heads\n",
    "        self.linear_Q = nn.Linear(d_model, d_model)\n",
    "        self.linear_K = nn.Linear(d_model, d_model)\n",
    "        self.linear_V = nn.Linear(d_model, d_model)\n",
    "        self.linear_out = nn.Linear(d_model, d_model)\n",
    "        self.attention = ScaledDotProductAttention()\n",
    "\n",
    "    def forward(self, Q, K, V, mask=None):\n",
    "        batch_size = Q.size(0)\n",
    "        Q = self.linear_Q(Q).view(batch_size, -1, self.num_heads, self.d_k).transpose(1, 2)\n",
    "        K = self.linear_K(K).view(batch_size, -1, self.num_heads, self.d_k).transpose(1, 2)\n",
    "        V = self.linear_V(V).view(batch_size, -1, self.num_heads, self.d_k).transpose(1, 2)\n",
    "        attn_output = self.attention(Q, K, V, mask)\n",
    "        concat = attn_output.transpose(1, 2).contiguous().view(batch_size, -1, self.num_heads * self.d_k)\n",
    "        return self.linear_out(concat)\n",
    "    \n"
   ]
  },
  {
   "cell_type": "code",
   "execution_count": 8,
   "metadata": {},
   "outputs": [],
   "source": [
    "# Feed-Forward Network\n",
    "class FeedForward(nn.Module):\n",
    "    def __init__(self, d_model, d_ff, dropout=0.1):\n",
    "        super(FeedForward, self).__init__()\n",
    "        self.linear1 = nn.Linear(d_model, d_ff)\n",
    "        self.linear2 = nn.Linear(d_ff, d_model)\n",
    "        self.dropout = nn.Dropout(dropout)\n",
    "\n",
    "    def forward(self, x):\n",
    "        return self.linear2(self.dropout(torch.relu(self.linear1(x))))\n",
    "    \n"
   ]
  },
  {
   "cell_type": "code",
   "execution_count": 9,
   "metadata": {},
   "outputs": [],
   "source": [
    "# Encoder Layer\n",
    "class EncoderLayer(nn.Module):\n",
    "    def __init__(self, d_model, num_heads, d_ff, dropout=0.1):\n",
    "        super(EncoderLayer, self).__init__()\n",
    "        self.attention = MultiHeadAttention(d_model, num_heads)\n",
    "        self.norm1 = nn.LayerNorm(d_model)\n",
    "        self.ff = FeedForward(d_model, d_ff, dropout)\n",
    "        self.norm2 = nn.LayerNorm(d_model)\n",
    "\n",
    "    def forward(self, x, mask=None):\n",
    "        attn_output = self.attention(x, x, x, mask)\n",
    "        x = self.norm1(x + attn_output)\n",
    "        ff_output = self.ff(x)\n",
    "        return self.norm2(x + ff_output)\n",
    "    \n"
   ]
  },
  {
   "cell_type": "code",
   "execution_count": 10,
   "metadata": {},
   "outputs": [],
   "source": [
    "# Decoder Layer\n",
    "class DecoderLayer(nn.Module):\n",
    "    def __init__(self, d_model, num_heads, d_ff, dropout=0.1):\n",
    "        super(DecoderLayer, self).__init__()\n",
    "        self.self_attention = MultiHeadAttention(d_model, num_heads)\n",
    "        self.norm1 = nn.LayerNorm(d_model)\n",
    "        self.enc_dec_attention = MultiHeadAttention(d_model, num_heads)\n",
    "        self.norm2 = nn.LayerNorm(d_model)\n",
    "        self.ff = FeedForward(d_model, d_ff, dropout)\n",
    "        self.norm3 = nn.LayerNorm(d_model)\n",
    "\n",
    "    def forward(self, x, enc_output, tgt_mask=None, memory_mask=None):\n",
    "        self_attn_output = self.self_attention(x, x, x, tgt_mask)\n",
    "        x = self.norm1(x + self_attn_output)\n",
    "        enc_dec_attn_output = self.enc_dec_attention(x, enc_output, enc_output, memory_mask)\n",
    "        x = self.norm2(x + enc_dec_attn_output)\n",
    "        ff_output = self.ff(x)\n",
    "        return self.norm3(x + ff_output) \n"
   ]
  },
  {
   "cell_type": "code",
   "execution_count": 11,
   "metadata": {},
   "outputs": [],
   "source": [
    "# Transformer Model\n",
    "class Transformer(nn.Module):\n",
    "    def __init__(self, vocab_size, d_model, num_heads, d_ff, num_layers, max_seq_len):\n",
    "        super(Transformer, self).__init__()\n",
    "        self.encoder_embedding = nn.Embedding(vocab_size, d_model)\n",
    "        self.decoder_embedding = nn.Embedding(vocab_size, d_model)\n",
    "        self.positional_encoding = nn.Parameter(torch.zeros(1, max_seq_len, d_model))\n",
    "        self.encoder_layers = nn.ModuleList([EncoderLayer(d_model, num_heads, d_ff) for _ in range(num_layers)])\n",
    "        self.decoder_layers = nn.ModuleList([DecoderLayer(d_model, num_heads, d_ff) for _ in range(num_layers)])\n",
    "        self.output_layer = nn.Linear(d_model, vocab_size)\n",
    "\n",
    "    def forward(self, src, tgt, src_mask=None, tgt_mask=None):\n",
    "        seq_len_src = src.size(1)\n",
    "        seq_len_tgt = tgt.size(1)\n",
    "        src = self.encoder_embedding(src) + self.positional_encoding[:, :seq_len_src, :]\n",
    "        tgt = self.decoder_embedding(tgt) + self.positional_encoding[:, :seq_len_tgt, :]\n",
    "\n",
    "        for layer in self.encoder_layers:\n",
    "            src = layer(src, src_mask)\n",
    "\n",
    "        for layer in self.decoder_layers:\n",
    "            tgt = layer(tgt, src, tgt_mask)\n",
    "\n",
    "        return self.output_layer(tgt) \n",
    "    \n"
   ]
  },
  {
   "cell_type": "code",
   "execution_count": 12,
   "metadata": {},
   "outputs": [],
   "source": [
    "# Model Hyperparameters\n",
    "vocab_size = tokenizer.vocab_size\n",
    "d_model = 512\n",
    "num_heads = 16\n",
    "d_ff = 2048\n",
    "num_layers = 6\n",
    "max_seq_len = 512\n",
    "learning_rate = 5e-5\n",
    "num_epochs = 10\n"
   ]
  },
  {
   "cell_type": "code",
   "execution_count": 13,
   "metadata": {},
   "outputs": [],
   "source": [
    "\n",
    "# Model Initialization\n",
    "model = Transformer(vocab_size, d_model, num_heads, d_ff, num_layers, max_seq_len)\n",
    "device = torch.device(\"cuda\" if torch.cuda.is_available() else \"cpu\")\n",
    "model.to(device)\n",
    "\n",
    "# Optimizer and Loss Function\n",
    "optimizer = torch.optim.AdamW(model.parameters(), lr=learning_rate)\n",
    "criterion = nn.CrossEntropyLoss()\n"
   ]
  },
  {
   "cell_type": "code",
   "execution_count": 14,
   "metadata": {},
   "outputs": [
    {
     "name": "stderr",
     "output_type": "stream",
     "text": [
      "100%|██████████| 1250/1250 [1:19:11<00:00,  3.80s/it]\n"
     ]
    },
    {
     "name": "stdout",
     "output_type": "stream",
     "text": [
      "Epoch 1/10, Train Loss: 2.9335, Train Accuracy: 0.2085, Val Loss: 1.9191, Val Accuracy: 0.2960\n"
     ]
    },
    {
     "name": "stderr",
     "output_type": "stream",
     "text": [
      "100%|██████████| 1250/1250 [1:18:53<00:00,  3.79s/it]\n"
     ]
    },
    {
     "name": "stdout",
     "output_type": "stream",
     "text": [
      "Epoch 2/10, Train Loss: 2.2080, Train Accuracy: 0.3040, Val Loss: 1.6855, Val Accuracy: 0.3465\n"
     ]
    },
    {
     "name": "stderr",
     "output_type": "stream",
     "text": [
      "100%|██████████| 1250/1250 [1:18:52<00:00,  3.79s/it]\n"
     ]
    },
    {
     "name": "stdout",
     "output_type": "stream",
     "text": [
      "Epoch 3/10, Train Loss: 1.9609, Train Accuracy: 0.3527, Val Loss: 1.5324, Val Accuracy: 0.3863\n"
     ]
    },
    {
     "name": "stderr",
     "output_type": "stream",
     "text": [
      "100%|██████████| 1250/1250 [1:22:09<00:00,  3.94s/it]\n"
     ]
    },
    {
     "name": "stdout",
     "output_type": "stream",
     "text": [
      "Epoch 4/10, Train Loss: 1.7701, Train Accuracy: 0.3948, Val Loss: 1.4117, Val Accuracy: 0.4212\n"
     ]
    },
    {
     "name": "stderr",
     "output_type": "stream",
     "text": [
      "100%|██████████| 1250/1250 [1:29:22<00:00,  4.29s/it]\n"
     ]
    },
    {
     "name": "stdout",
     "output_type": "stream",
     "text": [
      "Epoch 5/10, Train Loss: 1.6121, Train Accuracy: 0.4319, Val Loss: 1.3306, Val Accuracy: 0.4444\n"
     ]
    },
    {
     "name": "stderr",
     "output_type": "stream",
     "text": [
      "100%|██████████| 1250/1250 [1:26:38<00:00,  4.16s/it]\n"
     ]
    },
    {
     "name": "stdout",
     "output_type": "stream",
     "text": [
      "Epoch 6/10, Train Loss: 1.4755, Train Accuracy: 0.4644, Val Loss: 1.2570, Val Accuracy: 0.4674\n"
     ]
    },
    {
     "name": "stderr",
     "output_type": "stream",
     "text": [
      "100%|██████████| 1250/1250 [1:26:49<00:00,  4.17s/it]\n"
     ]
    },
    {
     "name": "stdout",
     "output_type": "stream",
     "text": [
      "Epoch 7/10, Train Loss: 1.3515, Train Accuracy: 0.4955, Val Loss: 1.1981, Val Accuracy: 0.4873\n"
     ]
    },
    {
     "name": "stderr",
     "output_type": "stream",
     "text": [
      "100%|██████████| 1250/1250 [1:26:45<00:00,  4.16s/it]\n"
     ]
    },
    {
     "name": "stdout",
     "output_type": "stream",
     "text": [
      "Epoch 8/10, Train Loss: 1.2277, Train Accuracy: 0.5284, Val Loss: 1.1433, Val Accuracy: 0.5057\n"
     ]
    },
    {
     "name": "stderr",
     "output_type": "stream",
     "text": [
      "100%|██████████| 1250/1250 [1:26:39<00:00,  4.16s/it]\n"
     ]
    },
    {
     "name": "stdout",
     "output_type": "stream",
     "text": [
      "Epoch 9/10, Train Loss: 1.0887, Train Accuracy: 0.5691, Val Loss: 1.0342, Val Accuracy: 0.5431\n"
     ]
    },
    {
     "name": "stderr",
     "output_type": "stream",
     "text": [
      "100%|██████████| 1250/1250 [1:26:45<00:00,  4.16s/it]\n"
     ]
    },
    {
     "name": "stdout",
     "output_type": "stream",
     "text": [
      "Epoch 10/10, Train Loss: 0.9132, Train Accuracy: 0.6292, Val Loss: 0.9084, Val Accuracy: 0.5974\n"
     ]
    }
   ],
   "source": [
    "import matplotlib.pyplot as plt\n",
    "\n",
    "# Function to calculate accuracy\n",
    "def calculate_accuracy(predictions, targets):\n",
    "    # Remove padding tokens (which are ignored in the loss calculation)\n",
    "    predictions = predictions.reshape(-1)  # Use reshape instead of view\n",
    "    targets = targets.reshape(-1)  # Use reshape instead of view\n",
    "    mask = targets != tokenizer.pad_token_id\n",
    "    correct = (predictions == targets) & mask\n",
    "    accuracy = correct.sum().item() / mask.sum().item()\n",
    "    return accuracy\n",
    "\n",
    "# List to store accuracy values\n",
    "train_accuracies = []\n",
    "val_accuracies = []\n",
    "# List to store loss values\n",
    "train_losses = []\n",
    "val_losses = []\n",
    "\n",
    "for epoch in range(num_epochs):\n",
    "    # Training\n",
    "    model.train()\n",
    "    total_train_loss = 0\n",
    "    total_train_accuracy = 0\n",
    "    for batch in tqdm(train_dataloader):\n",
    "        src = batch['input_ids'].to(device)\n",
    "        tgt = batch['labels'].to(device)\n",
    "\n",
    "        tgt_input = tgt[:, :-1]\n",
    "        tgt_output = tgt[:, 1:]\n",
    "\n",
    "        optimizer.zero_grad()\n",
    "        outputs = model(src, tgt_input)\n",
    "        loss = criterion(outputs.view(-1, vocab_size), tgt_output.contiguous().view(-1))\n",
    "        loss.backward()\n",
    "        optimizer.step()\n",
    "        total_train_loss += loss.item()\n",
    "\n",
    "        # Calculate accuracy\n",
    "        predictions = outputs.argmax(dim=-1)\n",
    "        accuracy = calculate_accuracy(predictions, tgt_output)\n",
    "        total_train_accuracy += accuracy\n",
    "\n",
    "    avg_train_loss = total_train_loss / len(train_dataloader)\n",
    "    avg_train_accuracy = total_train_accuracy / len(train_dataloader)\n",
    "    train_losses.append(avg_train_loss)\n",
    "    train_accuracies.append(avg_train_accuracy)\n",
    "\n",
    "    # Validation\n",
    "    model.eval()\n",
    "    total_val_loss = 0\n",
    "    total_val_accuracy = 0\n",
    "    with torch.no_grad():\n",
    "        for batch in val_dataloader:\n",
    "            src = batch['input_ids'].to(device)\n",
    "            tgt = batch['labels'].to(device)\n",
    "\n",
    "            tgt_input = tgt[:, :-1]\n",
    "            tgt_output = tgt[:, 1:]\n",
    "\n",
    "            outputs = model(src, tgt_input)\n",
    "            loss = criterion(outputs.view(-1, vocab_size), tgt_output.contiguous().view(-1))\n",
    "            total_val_loss += loss.item()\n",
    "\n",
    "            # Calculate accuracy\n",
    "            predictions = outputs.argmax(dim=-1)\n",
    "            accuracy = calculate_accuracy(predictions, tgt_output)\n",
    "            total_val_accuracy += accuracy\n",
    "\n",
    "    avg_val_loss = total_val_loss / len(val_dataloader)\n",
    "    avg_val_accuracy = total_val_accuracy / len(val_dataloader)\n",
    "    val_losses.append(avg_val_loss)\n",
    "    val_accuracies.append(avg_val_accuracy)\n",
    "\n",
    "    # Print loss and accuracy for each epoch\n",
    "    print(f\"Epoch {epoch + 1}/{num_epochs}, Train Loss: {avg_train_loss:.4f}, Train Accuracy: {avg_train_accuracy:.4f}, \"\n",
    "          f\"Val Loss: {avg_val_loss:.4f}, Val Accuracy: {avg_val_accuracy:.4f}\")\n",
    "\n",
    "\n"
   ]
  },
  {
   "cell_type": "code",
   "execution_count": 21,
   "metadata": {},
   "outputs": [
    {
     "data": {
      "image/png": "[encoded data removed]",
      "text/plain": [
       "<Figure size 1400x600 with 2 Axes>"
      ]
     },
     "metadata": {},
     "output_type": "display_data"
    }
   ],
   "source": [
    "# Plot training and validation loss\n",
    "plt.figure(figsize=(14, 6))\n",
    "\n",
    "# Plotting Loss\n",
    "plt.subplot(1, 2, 1)\n",
    "plt.plot(range(1, num_epochs + 1), train_losses, label='Training Loss')\n",
    "plt.plot(range(1, num_epochs + 1), val_losses, label='Validation Loss')\n",
    "plt.xlabel('Epochs')\n",
    "plt.ylabel('Loss')\n",
    "plt.title('Training and Validation Loss')\n",
    "plt.legend()\n",
    "plt.grid()\n",
    "\n",
    "# Plotting Accuracy\n",
    "plt.subplot(1, 2, 2)\n",
    "plt.plot(range(1, num_epochs + 1), train_accuracies, label='Training Accuracy')\n",
    "plt.plot(range(1, num_epochs + 1), val_accuracies, label='Validation Accuracy')\n",
    "plt.xlabel('Epochs')\n",
    "plt.ylabel('Accuracy')\n",
    "plt.title('Training and Validation Accuracy')\n",
    "plt.legend()\n",
    "plt.grid()\n",
    "\n",
    "plt.tight_layout()\n",
    "plt.show()"
   ]
  },
  {
   "cell_type": "code",
   "execution_count": 16,
   "metadata": {},
   "outputs": [
    {
     "name": "stdout",
     "output_type": "stream",
     "text": [
      "<class 'datasets.arrow_dataset.Dataset'>\n",
      "{'document': ['Liputan6 . com , Jakarta : Mantan Menteri Pertambangan dan Energi Ginandjar Kartasasmita mengaku telah menerima panggilan Kejaksaan Agung . Tapi , dia keberatan diperiksa sebagai tersangka dalam Kasus Technical Assistance Contract ( TAC ) antara Pertamina dan PT Ustraindo Petro Gas . Dia menuding status yang dikeluarkan Kejagung lebih bermuatan politis dibanding pertimbangan hukum . Pernyataan itu diungkapkan Ginandjar dalam jumpa pers yang digelar di kediamannya di Jalan Widya Chandra V Nomor 26 , Jakarta Selatan , Selasa ( 20/3 ) . Petinggi Partai Golongan Karya itu mengaku tak pernah ingkar janji soal pemanggilan Kejagung . Tapi , dia keberatan dengan status tersangka dalam kasus korupsi yang merugikan negara sebesar US$ 17 , 4 juta itu . Sebab , dia hanya melaksanakan kebijakan pemerintah selama proses persiapan dan perundingan . Dia menolak dituding berperan aktif dalam TAC tersebut . Ginandjar menambahkan , penunjukan PT Ustraindo tanpa tender , adalah hal yang biasa dilakukan Pertamina . Dia juga membantah negara merugi sebesar US$ 17 , 4 juta . Alasannya , semua biaya dikeluarkan PT Ustraindo , bukan oleh Pertamina . Ginandjar mengaku menerima surat Kejagung per 16 Maret 2001 , lewat Konsulat Jenderal RI di Amerika Serikat . Surat tersebut , kata dia , tertanggal 14 Maret 2001 . Purnawirawan Marsekal Madya itu juga tak akan memenuhi panggilan Kejagung sebelum mendapat izin dari Panglima TNI dan Kepala Staf Angkatan Udara ( KSAU ) . Ginandjar mengaku telah mengirim surat pada Panglima TNI dan KSAU untuk meminta permohonan bantuan hukum dan izin didampingi penasihat hukum di luar lingkungan TNI . Sedianya , Kejagung bakal memeriksa Gindandjar pada 22 Maret , sebagai sebagai saksi bukan tersangka sesuai panggilan Kejagung yang diterima Ginandjar , hari ini . ( TNA/Edi Priyono dan Effendi ) .', 'Liputan6 . com , Jakarta : Kejaksaan Agung mengaku tak memiliki dana untuk membiayai pengobatan mantan Presiden Soeharto . Sebab itu , jika Soeharto terpaksa harus dirawat dengan pengawasan kejaksaan maka satu-satunya jalan adalah meminta anggaran dari Menteri Keuangan . Demikian ditegaskan Kepala Pusat Penerangan Hukum Mulyoharjo , di Jakarta , baru-baru ini . Menurut Mulyoharjo , keputusan itu menyusul terkabulnya kasasi kuasa hukum Soeharto , Juan Felix Tampubolon oleh Mahkamah Agung . Dalam amar putusan MA itu telah disebutkan Kejagung diharuskan mengobati Soeharto dengan biaya negara . Menanggapi kenyataan itu , Juan Felix mengatakan , keluarga Cendana belum membicarakan soal pengobatan oleh negara tersebut . Menurut Juan , amar putusan MA baru akan diberitahukan langsung kepada Soeharto , Senin malam . Sementara , selain membebaskan Soeharto dari tahanan kota , sebelumnya MA juga telah membatalkan putusan Pengadilan Tinggi Jakarta yang menyatakan Soeharto dapat disidangkan secara in absentia . ( ICH/Lita Hariyani dan Agung Nugroho ) .'], 'id': ['9835', '7521'], 'summary': ['Ginandjar Kartasasmita keberatan diperiksa sebagai tersangka Kasus TAC antara Pertamina-PT Ustraindo Petro Gas . Dia menilai status itu bernuansa politis .', 'Menyusul dikabulkannya kasasi kuasa hukum Soeharto , Kejagung mengaku tak memiliki dana untuk merawat mantan penguasa Indonesia itu . MA telah membebaskan Soeharto dari tahanan kota .']}\n"
     ]
    }
   ],
   "source": [
    "print(type(val_data))\n",
    "print(val_data[:2])  # Tampilkan 2 elemen pertama\n"
   ]
  },
  {
   "cell_type": "code",
   "execution_count": 22,
   "metadata": {},
   "outputs": [],
   "source": [
    "def greedy_decode(model, input_ids, max_length=150):\n",
    "    # Mengatur model dalam mode evaluasi (tidak ada dropout)\n",
    "    model.eval()\n",
    "\n",
    "    # Mengirimkan input ke device\n",
    "    input_ids = input_ids.to(device)\n",
    "    \n",
    "    # Membuat tensor kosong untuk menyimpan output\n",
    "    generated_ids = input_ids\n",
    "\n",
    "    for _ in range(max_length):\n",
    "        # Forward pass untuk mendapatkan output dari model\n",
    "        outputs = model(generated_ids)  # Menggunakan decoder bagian model\n",
    "        logits = outputs[:, -1, :]  # Ambil output terakhir\n",
    "\n",
    "        # Pilih token dengan probabilitas tertinggi (greedy)\n",
    "        predicted_id = logits.argmax(dim=-1).unsqueeze(-1)\n",
    "\n",
    "        # Gabungkan dengan sequence yang sudah ada\n",
    "        generated_ids = torch.cat((generated_ids, predicted_id), dim=-1)\n",
    "\n",
    "        # Jika token EOS (end of sequence) muncul, berhenti\n",
    "        if predicted_id.item() == tokenizer.eos_token_id:\n",
    "            break\n",
    "\n",
    "    return generated_ids\n"
   ]
  },
  {
   "cell_type": "code",
   "execution_count": 23,
   "metadata": {},
   "outputs": [],
   "source": [
    "def decode_output(generated_ids, tokenizer):\n",
    "    generated_text = tokenizer.decode(generated_ids[0], skip_special_tokens=True)\n",
    "    return generated_text\n"
   ]
  },
  {
   "cell_type": "code",
   "execution_count": 29,
   "metadata": {},
   "outputs": [
    {
     "name": "stdout",
     "output_type": "stream",
     "text": [
      "Contoh Hasil Prediksi:\n",
      "\n",
      "Contoh 1:\n",
      "Original Text:\n",
      "Liputan6 . com , Jakarta : Tersiar kabar , Presiden Megawati telah menunjuk Komisaris Jenderal Polisi Da i Bachtiar sebagai pelaksana harian atau pejabat sementara kepala Polri . Selain itu , beredar kabar pula bahwa jabatan Laksamana TNI Widodo A . S . sebagai panglima TNI akan digeser . Tapi , baru-baru ini , Sekretaris Negara/Kabinet Bambang Kesowo membantah kabar itu . Bahkan , Bambang tak yakin jika presiden telah mengeluarkan dua keputusan itu . \" Saya tak yakin , \" kata Bambang seraya menggelengkan kepala . Tapi , saat dikonfirmasi mengenai usul pemerintah yang telah mengajukan nama Sumadi Brotodiningrat sebagai Duta Besar Jepang menggantikan Dorodjatun Kuntjoro-Jakti , Bambang membenarkan hal itu . Bambang menjelaskan , pemerintah telah mengajukan nama Sumadi kepada DPR . Namun , mengingat DPR masih dalam masa reses , menurut Bambang , hingga kini pemerintah belum menerima jawaban masalah itu . ( ICH/Donny Kurniawan dan Satya Pandia ) .\n",
      "\n",
      "Reference Summary:\n",
      "Sekretaris Negara Bambang Kesowo mengatakan , presiden belum mengusulkan Komjen Pol . Da i Bachtiar sebagai pelaksana harian Kapolri . Sumadi Brotodiningrat diusulkan menjadi Dubes Jepang .\n",
      "\n",
      "Predicted Summary:\n",
      "sekretapan negaranbangkanbang serunatakan ke kesiden,um mengata mengkan sen.n,ri se i bachtiar sumbagai pollaksanaan...usri pe sebang menm meng beguonjadulkan sejadi sees polpan.kan.\n",
      "\n",
      "BLEU Score: 0.006864311970752697\n",
      "\n",
      "--------------------------------------------------------------------------------\n",
      "Contoh 2:\n",
      "Original Text:\n",
      "Liputan6 . com , Jakarta : Kejaksaan Agung akan memanggil mantan Presiden B . J . Habibie . Namun , kepastian pemanggilan itu tergantung pada pemeriksaan Tim Penyidik Kejagung dalam kasus penggelapan dana nonbujeter Badan Urusan Logistik sebesar Rp 54 , 6 miliar . Demikian dikemukakan Kepala Pusat Penerangan dan Hukum Kejagung Moeljohardjo di Jakarta , Jumat ( 09/11 ) [ baca : Mantan Presiden Habibie Akan Dipanggil Kejagung ] . Selain itu , Moeljohardjo juga kembali akan memanggil mantan Deputi Keuangan Bulog Ruskandar dan pengelola kontraktor yang menyalurkan sembako Wilfred Simatupang sebagai saksi . Keduanya mangkir hadir untuk memenuhi panggilan Kejagung , Kamis kemarin . Menurut Moeljohardjo keduanya diduga mengetahui aliran penggelapan dana Bulog Rp 40 miliar dengan tersangka mantan Ketua Bulog Rahardi Ramelan . ( YYT/Lita Hariyani , Hendi Bernadi dan Dwi Guntoro ) .\n",
      "\n",
      "Reference Summary:\n",
      "Mantan Presiden B . J . Habibie akan diperiksa Kejaksaan Agung dalam kasus dana nonbujeter Bulog sebesar Rp 54 , 6 miliar . Deputi Keuangan Bulog Ruskandar akan dipanggil yang kedua kalinya .\n",
      "\n",
      "Predicted Summary:\n",
      "mantan presiden akalok manw hakimie akan diperiksa sejaksa se akaar akaam kasus bu sebulkaer bulog yangbesar rp 6. se miliawan yang 000pi ruan yang.log yangia se,n yangerik yang. dipua.nya yang ked\n",
      "\n",
      "BLEU Score: 0.014222837710344357\n",
      "\n",
      "--------------------------------------------------------------------------------\n",
      "Average BLEU Score: 0.00913886536903744\n"
     ]
    }
   ],
   "source": [
    "# Fungsi untuk menghitung BLEU score dan menghasilkan ringkasan\n",
    "def calculate_bleu_and_generate_summary(model, tokenizer, dataset, num_samples=100):\n",
    "    smoothing = SmoothingFunction().method1\n",
    "    results = []\n",
    "    total_bleu_score = 0  # Variabel untuk menjumlahkan semua BLEU score\n",
    "    \n",
    "    # Looping sesuai jumlah sampel yang diminta\n",
    "    for i in range(num_samples):\n",
    "        source_text = dataset[i]['document']  # Mengakses teks sumber\n",
    "        reference_summary = dataset[i]['summary']  # Mengakses ringkasan referensi\n",
    "        \n",
    "        # Tokenisasi teks sumber dan ringkasan referensi\n",
    "        inputs = tokenizer(source_text, return_tensors=\"pt\", max_length=512, truncation=True)\n",
    "        target_inputs = tokenizer(reference_summary, return_tensors=\"pt\", max_length=128, truncation=True)\n",
    "        \n",
    "        # Dapatkan output dari model (menggunakan forward)\n",
    "        src = inputs['input_ids'].to(device)\n",
    "        tgt = target_inputs['input_ids'].to(device)\n",
    "        \n",
    "        # Mendapatkan output model\n",
    "        outputs = model(src, tgt)\n",
    "        \n",
    "        # Ambil hasil output dan lakukan decoding (misalnya ambil logit dan cari indeks tertinggi)\n",
    "        predicted_ids = torch.argmax(outputs, dim=-1)  # Menyaring hasil prediksi\n",
    "        predicted_summary = tokenizer.decode(predicted_ids[0], skip_special_tokens=True)\n",
    "        \n",
    "        # Hitung BLEU score\n",
    "        reference_tokens = [reference_summary.split()]\n",
    "        predicted_tokens = predicted_summary.split()\n",
    "        bleu_score = sentence_bleu(reference_tokens, predicted_tokens, smoothing_function=smoothing)\n",
    "        total_bleu_score += bleu_score  # Tambahkan BLEU score ke total\n",
    "        \n",
    "        # Simpan hasil dalam dictionary\n",
    "        results.append({\n",
    "            'source_text': source_text,\n",
    "            'reference_summary': reference_summary,\n",
    "            'predicted_summary': predicted_summary,\n",
    "            'bleu_score': bleu_score\n",
    "        })\n",
    "    \n",
    "    # Hitung rata-rata BLEU score\n",
    "    average_bleu_score = total_bleu_score / num_samples\n",
    "    return results, average_bleu_score\n",
    "\n",
    "# Contoh penggunaan\n",
    "num_samples_to_test = 100  # Ganti dengan jumlah sampel yang ingin diuji\n",
    "results, avg_bleu_score = calculate_bleu_and_generate_summary(model, tokenizer, test_data, num_samples=num_samples_to_test)\n",
    "\n",
    "# Cetak hasil BLEU score dan prediksi untuk 2 contoh\n",
    "print(\"Contoh Hasil Prediksi:\\n\")\n",
    "for i, result in enumerate(results[:2]):  # Ambil 2 contoh pertama\n",
    "    print(f\"Contoh {i+1}:\")\n",
    "    print(f\"Original Text:\\n{result['source_text']}\\n\")\n",
    "    print(f\"Reference Summary:\\n{result['reference_summary']}\\n\")\n",
    "    print(f\"Predicted Summary:\\n{result['predicted_summary']}\\n\")\n",
    "    print(f\"BLEU Score: {result['bleu_score']}\\n\")\n",
    "    print(\"-\" * 80)\n",
    "\n",
    "# Cetak rata-rata BLEU score\n",
    "print(f\"Average BLEU Score: {avg_bleu_score}\")\n",
    "\n"
   ]
  }
 ],
 "metadata": {
  "kernelspec": {
   "display_name": "Python 3",
   "language": "python",
   "name": "python3"
  },
  "language_info": {
   "codemirror_mode": {
    "name": "ipython",
    "version": 3
   },
   "file_extension": ".py",
   "mimetype": "text/x-python",
   "name": "python",
   "nbconvert_exporter": "python",
   "pygments_lexer": "ipython3",
   "version": "3.10.8"
  }
 },
 "nbformat": 4,
 "nbformat_minor": 2
}
