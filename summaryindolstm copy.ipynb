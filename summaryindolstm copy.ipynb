{
 "cells": [
  {
   "cell_type": "code",
   "execution_count": 1,
   "metadata": {},
   "outputs": [
    {
     "name": "stderr",
     "output_type": "stream",
     "text": [
      "c:\\Users\\ASUS\\AppData\\Local\\Programs\\Python\\Python310\\lib\\site-packages\\tqdm\\auto.py:21: TqdmWarning: IProgress not found. Please update jupyter and ipywidgets. See https://ipywidgets.readthedocs.io/en/stable/user_install.html\n",
      "  from .autonotebook import tqdm as notebook_tqdm\n"
     ]
    }
   ],
   "source": [
    "\n",
    "from tensorflow.keras.layers import Embedding, Bidirectional, Dense, TimeDistributed, Input, LayerNormalization, LSTM\n",
    "from tensorflow.keras.preprocessing.sequence import pad_sequences\n",
    "from tensorflow.keras.preprocessing.text import Tokenizer\n",
    "from tensorflow.keras.layers import Attention\n",
    "from tensorflow.keras.models import Model\n",
    "import numpy as np\n",
    "import pandas as pd\n",
    "from nltk.translate.bleu_score import sentence_bleu\n",
    "import matplotlib.pyplot as plt\n",
    "from datasets import load_dataset\n"
   ]
  },
  {
   "cell_type": "code",
   "execution_count": 2,
   "metadata": {},
   "outputs": [],
   "source": [
    "dset = load_dataset(\"SEACrowd/liputan6\", trust_remote_code=True)"
   ]
  },
  {
   "cell_type": "code",
   "execution_count": 3,
   "metadata": {},
   "outputs": [
    {
     "name": "stdout",
     "output_type": "stream",
     "text": [
      "Number of rows in train data: 193883\n",
      "Number of columns in train data: 3\n",
      "Column names: ['document', 'id', 'summary']\n",
      "\n",
      "Sample row:\n",
      " {'document': 'TIGA kali somasi dilayangkan kepada Nuri Shaden . Namun reaksi yang diharapkan agar meminta maaf hasilnya nihil . Keluarga Janu Utomo melaporkan kasus kecelakaan di Jalan Sisingamaraja , Jakarta Selatan , 1 Juni silam itu ke Kepolisian Resor Metro Jaksel . \" Kita melaporkan atas dugaan tindak pidana , \" tutur Taufik Basari , kuasa hukum keluarga Janu , belum lama ini . Taufik menambahkan , pihaknya ingin Nuri mencabut pernyataan di depan pers , 2 Juni silam . Ia juga ingin Nuri meminta maaf di media atas kejadian itu . Dan juga menyampaikan belasungkawa . Taufik menilai , pernyataan Nuri memutarbalikkan fakta . \" Yang kita adukan soal pernyataan-pernyataannya , \" ujar dia . Keluarga Janu melaporkan dengan dua tuduhan . Yakni sikap yang tidak menyenangkan dan pencemaran nama baik . Kala itu Nuri menuding mobil ambulans yang menabrak kendaraannya . \" Intinya mereka menabrak kita , \" ucap Nuri saat jumpa pers waktu itu . Pernyataan disampaikan bintang film Seventeen didampingi Noni T , pengacaranya . Ia menyalahkan Januari Purwoko , sopir ambulans . Padahal Januari sudah mengklakson mobil Honda Jazz yang ditumpangi Nuri . Tabrakan pun terhindarkan . Ambulans rusak di bagian kanan dan as roda belakang patah . Tabrakan mobil ambulans dan Honda Jazz yang dikendarai Nuri merenggut nyawa Janu Utomo . Sedangkan Januari Purwoko , sopir ambulans cedera parah . Tiga lainnya di mobil ambulans luka ringan . Yakni istri Janu , Retno Indarti , Krisanti Indriani , dan perawat Risa Citra Dewi . Kala itu keluarga mengantarkan Janu hendak mencuci darah . Soal ini kubu Nuri membantah . Noni mengatakan Janu meninggal karena penyakit jantung yang dideritanya . ( As ) .', 'id': '228132', 'summary': 'TIGA kali somasi dilayangkan kepada Nuri Shaden . Namun reaksi yang diharapkan agar meminta maaf hasilnya nihil . Keluarga Janu Utomo pun melaporkan Nuri ke Kepolisian Resor Metro Jakarta Selatan .'}\n",
      "\n",
      "Dataset Info:\n",
      " DatasetDict({\n",
      "    train: Dataset({\n",
      "        features: ['document', 'id', 'summary'],\n",
      "        num_rows: 193883\n",
      "    })\n",
      "    test: Dataset({\n",
      "        features: ['document', 'id', 'summary'],\n",
      "        num_rows: 10972\n",
      "    })\n",
      "    validation: Dataset({\n",
      "        features: ['document', 'id', 'summary'],\n",
      "        num_rows: 10972\n",
      "    })\n",
      "})\n"
     ]
    }
   ],
   "source": [
    "train_data = dset['train']\n",
    "\n",
    "print(\"Number of rows in train data:\", train_data.num_rows)\n",
    "print(\"Number of columns in train data:\", train_data.num_columns)\n",
    "print(\"Column names:\", train_data.column_names)\n",
    "print(\"\\nSample row:\\n\", train_data[0]) \n",
    "\n",
    "print(\"\\nDataset Info:\\n\", dset)\n"
   ]
  },
  {
   "cell_type": "code",
   "execution_count": 4,
   "metadata": {},
   "outputs": [
    {
     "name": "stdout",
     "output_type": "stream",
     "text": [
      "Number of rows in train data: 10972\n",
      "Number of columns in train data: 3\n",
      "Column names: ['document', 'id', 'summary']\n",
      "\n",
      "Sample row:\n",
      " {'document': 'Liputan6 . com , Jakarta : Keinginan untuk menindaklanjuti hasil curah pendapat yang diprakarsai Kwik Kian Gie , semakin mengental . Buktinya , beberapa anggota DPR ngebet membentuk Forum Lobi . Ketua DPR Akbar Tandjung baru-baru ini , mempersilakan para wakil rakyat yang ingin membentuk forum tersebut . Namun , Akbar menegaskan , pembentukan forum tersebut bukan bagian dari mekanisme DPR . Menurut Akbar , hasil curah pendapat 11 November silam , bisa saja dimasukkan dalam agenda dewan . Asalkan , kata Ketua Umum Golkar ini , semua proses harus berjalan sesuai prosedur yang ada . Artinya , itu harus disepakati melalui rapat fraksi dan dibawa ke Badan Musyawarah . \" Bila Bamus telah merumuskannya menjadi sebuah usulan agenda , maka dapat dibawa ke rapat paripurna yang nantinya akan menjadi agenda DPR , \" kata Akbar . ( YYT/Diah Kusuma dan Prihandoyo ) .', 'id': '3721', 'summary': 'Sebagian anggota DPR berniat besar menindaklanjuti hasil curah pendapat menjadi agenda dewan . Akbar Tandjung setuju membentuk Forum Lobi , asal , sesuai prosedur yang ada di DPR .'}\n",
      "\n",
      "Dataset Info:\n",
      " DatasetDict({\n",
      "    train: Dataset({\n",
      "        features: ['document', 'id', 'summary'],\n",
      "        num_rows: 193883\n",
      "    })\n",
      "    test: Dataset({\n",
      "        features: ['document', 'id', 'summary'],\n",
      "        num_rows: 10972\n",
      "    })\n",
      "    validation: Dataset({\n",
      "        features: ['document', 'id', 'summary'],\n",
      "        num_rows: 10972\n",
      "    })\n",
      "})\n"
     ]
    }
   ],
   "source": [
    "val_data = dset['validation']\n",
    "\n",
    "print(\"Number of rows in train data:\", val_data.num_rows)\n",
    "print(\"Number of columns in train data:\", val_data.num_columns)\n",
    "print(\"Column names:\", val_data.column_names)\n",
    "print(\"\\nSample row:\\n\", val_data[0]) \n",
    "\n",
    "print(\"\\nDataset Info:\\n\", dset)"
   ]
  },
  {
   "cell_type": "code",
   "execution_count": 5,
   "metadata": {},
   "outputs": [
    {
     "name": "stdout",
     "output_type": "stream",
     "text": [
      "Training data size: 10000 articles, 10000 highlights\n",
      "Validation data size: 2000 articles, 2000 highlights\n"
     ]
    }
   ],
   "source": [
    "# Assuming dset['train']['document'] and dset['train']['summary'] are your lists of articles and summaries\n",
    "articles_train = dset['train']['document'][:10000]\n",
    "highlights_train = dset['train']['summary'][:10000]\n",
    "\n",
    "articles_val = dset['validation']['document'][:2000]\n",
    "highlights_val = dset['validation']['summary'][:2000]\n",
    "\n",
    "# Print to verify the sizes\n",
    "print(f\"Training data size: {len(articles_train)} articles, {len(highlights_train)} highlights\")\n",
    "print(f\"Validation data size: {len(articles_val)} articles, {len(highlights_val)} highlights\")\n"
   ]
  },
  {
   "cell_type": "code",
   "execution_count": 6,
   "metadata": {},
   "outputs": [
    {
     "name": "stdout",
     "output_type": "stream",
     "text": [
      "Sample Article:\n",
      " TIGA kali somasi dilayangkan kepada Nuri Shaden . Namun reaksi yang diharapkan agar meminta maaf hasilnya nihil . Keluarga Janu Utomo melaporkan kasus kecelakaan di Jalan Sisingamaraja , Jakarta Selatan , 1 Juni silam itu ke Kepolisian Resor Metro Jaksel . \" Kita melaporkan atas dugaan tindak pidana , \" tutur Taufik Basari , kuasa hukum keluarga Janu , belum lama ini . Taufik menambahkan , pihaknya ingin Nuri mencabut pernyataan di depan pers , 2 Juni silam . Ia juga ingin Nuri meminta maaf di media atas kejadian itu . Dan juga menyampaikan belasungkawa . Taufik menilai , pernyataan Nuri memutarbalikkan fakta . \" Yang kita adukan soal pernyataan-pernyataannya , \" ujar dia . Keluarga Janu melaporkan dengan dua tuduhan . Yakni sikap yang tidak menyenangkan dan pencemaran nama baik . Kala itu Nuri menuding mobil ambulans yang menabrak kendaraannya . \" Intinya mereka menabrak kita , \" ucap Nuri saat jumpa pers waktu itu . Pernyataan disampaikan bintang film Seventeen didampingi Noni T , pengacaranya . Ia menyalahkan Januari Purwoko , sopir ambulans . Padahal Januari sudah mengklakson mobil Honda Jazz yang ditumpangi Nuri . Tabrakan pun terhindarkan . Ambulans rusak di bagian kanan dan as roda belakang patah . Tabrakan mobil ambulans dan Honda Jazz yang dikendarai Nuri merenggut nyawa Janu Utomo . Sedangkan Januari Purwoko , sopir ambulans cedera parah . Tiga lainnya di mobil ambulans luka ringan . Yakni istri Janu , Retno Indarti , Krisanti Indriani , dan perawat Risa Citra Dewi . Kala itu keluarga mengantarkan Janu hendak mencuci darah . Soal ini kubu Nuri membantah . Noni mengatakan Janu meninggal karena penyakit jantung yang dideritanya . ( As ) .\n",
      "\n",
      "Sample Summary:\n",
      " TIGA kali somasi dilayangkan kepada Nuri Shaden . Namun reaksi yang diharapkan agar meminta maaf hasilnya nihil . Keluarga Janu Utomo pun melaporkan Nuri ke Kepolisian Resor Metro Jakarta Selatan .\n"
     ]
    }
   ],
   "source": [
    "# Print one article and its corresponding summary\n",
    "print(\"Sample Article:\\n\", articles_train[0])\n",
    "print(\"\\nSample Summary:\\n\", highlights_train[0])"
   ]
  },
  {
   "cell_type": "code",
   "execution_count": 7,
   "metadata": {},
   "outputs": [
    {
     "name": "stdout",
     "output_type": "stream",
     "text": [
      "Article Tokenizer Word Index:\n",
      "{'<OOV>': 1, 'di': 2, 'yang': 3, 'dan': 4, 'ini': 5, 'itu': 6, 'dengan': 7, 'dari': 8, 'untuk': 9, 'dalam': 10, 'ke': 11, 'akan': 12, 'juga': 13, 'tidak': 14, 'com': 15, 'liputan6': 16, 'jakarta': 17, 'mereka': 18, 'tak': 19, 'pada': 20}\n",
      "\n",
      "Highlight Tokenizer Word Index:\n",
      "{'<OOV>': 1, 'di': 2, 'yang': 3, 'dan': 4, 'ini': 5, 'dari': 6, 'dengan': 7, 'untuk': 8, 'dalam': 9, 'ke': 10, 'akan': 11, 'itu': 12, 'warga': 13, 'tak': 14, 'karena': 15, 'mereka': 16, 'tidak': 17, 'dua': 18, 'jakarta': 19, 'rumah': 20}\n"
     ]
    }
   ],
   "source": [
    "\n",
    "# Increase num_words to 20,000 and adjust OOV token\n",
    "vocab_size = 20000\n",
    "article_tokenizer = Tokenizer(num_words=vocab_size, oov_token=\"<OOV>\")\n",
    "highlight_tokenizer = Tokenizer(num_words=vocab_size, oov_token=\"<OOV>\")\n",
    "\n",
    "# Fit tokenizers on training data\n",
    "article_tokenizer.fit_on_texts(articles_train)\n",
    "highlight_tokenizer.fit_on_texts(highlights_train)\n",
    "\n",
    "# Print tokenizer word indices\n",
    "print(\"Article Tokenizer Word Index:\")\n",
    "print(dict(list(article_tokenizer.word_index.items())[:20])) \n",
    "\n",
    "print(\"\\nHighlight Tokenizer Word Index:\")\n",
    "print(dict(list(highlight_tokenizer.word_index.items())[:20])) "
   ]
  },
  {
   "cell_type": "code",
   "execution_count": 8,
   "metadata": {},
   "outputs": [
    {
     "name": "stdout",
     "output_type": "stream",
     "text": [
      "Article Sequences (Training):\n",
      "[[67, 108, 7499, 11407, 76, 6490, 1, 33, 3060, 3, 911, 186, 178, 2077, 1620, 10931, 184, 14214, 5068, 1017, 72, 693, 2, 71, 1, 17, 130, 54, 822, 122, 6, 11, 132, 602, 752, 2338, 326, 1017, 126, 721, 1106, 1034, 1372, 1215, 1, 1194, 208, 184, 14214, 49, 233, 5, 1215, 558, 723, 336, 6490, 3408, 481, 2, 175, 1205, 87, 822, 122, 69, 13, 336, 6490, 178, 2077, 2, 900, 126, 392, 6, 4, 13, 1180, 8669, 1215, 430, 481, 6490, 1, 2381, 3, 326, 1, 397, 481, 5646, 337, 84, 184, 14214, 1017, 7, 29, 1519, 353, 835, 3, 14, 4352, 4, 3205, 305, 228, 2314, 6, 6490, 2954, 269, 6491, 3, 2930, 6624, 5546, 18, 2930, 326, 1177, 6490, 25, 3734, 1205, 149, 6, 481, 690, 820, 589, 1, 1744, 1, 4022, 5153, 69, 5441, 709, 18020, 930, 6491, 343, 709, 32, 1, 269, 5966, 4805, 3, 7915, 6490, 2724, 82, 5442, 6491, 524, 2, 348, 1587, 4, 304, 2274, 938, 2751, 2724, 269, 6491, 4, 5966, 4805, 3, 11408, 6490, 6492, 2460, 14214, 5068, 165, 709, 18020, 930, 6491, 442, 1009, 67, 191, 2, 269, 6491, 362, 1631, 353, 559, 14214, 9309, 1, 1, 12000, 4, 4284, 1, 2008, 1678, 2314, 6, 184, 3147, 14214, 1198, 6354, 1270, 397, 5, 894, 6490, 849, 1, 135, 14214, 561, 23, 620, 2246, 3, 6625, 304], [16, 15, 17, 1, 16458, 1202, 15242, 1, 1, 15243, 562, 1, 541, 1, 10026, 6077, 925, 3700, 10454, 4805, 3, 3297, 5069, 18021, 17, 130, 195, 54, 87, 226, 3335, 5, 45, 1289, 90, 8, 2247, 4607, 521, 264, 10455, 414, 450, 6, 2, 299, 66, 75, 2, 43, 46, 17, 4, 347, 18, 528, 8158, 385, 426, 344, 4, 354, 4665, 1, 15242, 35, 781, 4806, 1, 16458, 1202, 15242, 7, 18022, 7301, 4123, 24, 1, 8980, 1, 4, 1, 1, 266, 8981, 1460, 5341, 541, 1, 10026, 6077, 18, 158, 1, 10932, 2635, 103, 95, 18023, 4, 1, 16459, 10027, 1, 8982, 6788, 150, 1, 16458, 1202, 15242, 2009, 521, 15244, 4665, 18, 115, 9651, 1972, 54, 594, 984, 3, 3336, 9, 17, 3701, 3780, 1210, 1790, 1231, 2593], [16, 15, 17, 1294, 753, 269, 1378, 412, 2839, 9, 7707, 6078, 1021, 3061, 634, 2, 139, 31, 2, 146, 1410, 8983, 2000, 17, 130, 358, 60, 211, 1540, 242, 1378, 13, 829, 2133, 348, 77, 31, 3494, 732, 6, 9, 1298, 1986, 7500, 2, 1421, 1410, 586, 22, 281, 242, 1378, 7708, 11, 86, 110, 9, 1398, 10028, 4285, 261, 3, 170, 7115, 73, 288, 418, 375, 301, 86, 21, 73, 135, 743, 3, 99, 5, 3177, 36, 110, 4408, 242, 5070, 6, 20, 226, 48, 767, 1120, 110, 10933, 44, 1107, 261, 2, 240, 412, 3, 3090, 86, 3976, 349, 8, 31, 180, 63, 1093, 3495, 3702, 6, 266, 3781, 10, 2078, 29, 328, 40, 78, 49, 395, 218, 985, 814, 131, 1021, 3061, 634, 2507, 2, 71, 11409, 7302, 17, 94, 342, 12001, 31, 3206, 1043, 34, 200, 31, 2, 11409, 7302, 3206, 1043, 261, 170, 421, 8, 139, 31, 787, 2, 205, 1, 1, 73, 288, 438, 275, 301, 1021, 3061, 634, 712, 3536, 4, 6626, 200, 31, 3, 231, 75, 2931, 8, 18024, 19, 47, 8, 29, 328, 261, 8415, 31, 787, 2, 416, 3449, 1228, 5760, 4736, 4, 733, 15245], [152, 30, 122, 3091, 499, 1373, 2, 3612, 1807, 147, 694, 2437, 1018, 7916, 1449, 856, 2, 237, 617, 1216, 865, 2, 850, 1484, 7116, 734, 2034, 96, 5154, 694, 6, 79, 12002, 104, 537, 1695, 14215, 13388, 856, 2437, 109, 4666, 101, 78, 2, 1349, 280, 104, 537, 80, 12633, 2, 13389, 3091, 46, 55, 10, 29, 133, 2085, 2654, 8, 83, 83, 490, 7117, 3298, 4, 3657, 1379, 5761, 11, 237, 3003, 3091, 82, 56, 18025, 9, 14, 91, 229, 2, 68, 912, 379, 173, 1144, 1028, 16460, 1, 2248, 7501, 3537, 311, 897, 163, 526, 89, 3, 276, 1, 1654, 927, 6, 19, 1194, 9, 80, 1, 104, 537, 109, 136, 4228, 4409, 85, 118, 5342, 7, 603, 56, 5, 42, 133, 8, 3537, 311, 101, 74, 3091, 109, 4228, 4228, 128, 5253, 118, 14, 1821, 247, 118, 167, 422, 2315, 606, 2, 237, 140, 128, 118, 171, 422, 1222, 2, 237, 90, 101, 2725, 57, 180, 1110, 1666, 1655, 3, 134, 175, 12, 422, 155, 2932, 2698, 2, 2620, 2010, 1289, 24, 7303, 14, 1022, 102, 1097, 2085, 6789, 109, 163, 6, 451, 4667, 167, 490, 748, 466, 47, 1222, 2, 237, 2594, 149, 147, 678, 18, 3178, 3299, 408, 29, 108, 128, 62, 187, 7502, 6, 118, 82, 639, 44, 466, 1238, 592, 1669, 6627, 6790, 101, 545, 3091, 55, 10, 5071, 2418, 795, 237, 90, 2594, 149, 490, 2339, 96, 1, 2246, 1186, 183, 1460, 2, 1, 4608, 1782, 8670, 147, 333, 333, 4807, 6079, 1015, 8, 4878, 13390, 13391, 4, 171, 8984, 701, 12003, 4879, 1206, 5856, 55, 3178, 2340, 408, 7709, 206, 2438, 3299, 126, 4879, 3, 2904, 678, 8985, 8671, 694, 82, 639, 29, 466, 443, 6790, 140, 147, 6355, 3869, 343, 382, 6790, 280, 136, 760, 90, 147, 678, 1456, 89, 546, 679, 6, 171, 142, 2654, 11410, 1, 6356, 527, 133, 522, 163, 526, 1905, 1, 12004, 2186, 8, 5155, 5547, 4078, 1310, 239, 5072, 3, 1, 2793, 317, 490, 109, 62, 14, 276, 668, 388, 3, 65, 101, 11411, 3091, 101, 678, 4808, 8, 490, 171, 118, 1, 333, 333, 5547, 193, 817, 2654, 767, 93, 89, 12, 193, 678, 11, 408, 128, 388, 3, 5762, 2339, 260, 434, 7118, 265, 11, 1290, 372, 349, 118, 639, 67, 89, 1, 128, 14, 91, 1, 9, 193, 12004, 76, 2595, 7503, 461, 678, 7503, 369, 369, 2905, 1815, 311, 3, 260, 434, 101, 74, 3091, 7, 80, 6080, 470, 229, 2, 68, 3003, 379, 173, 96, 3091, 14216, 6215, 280, 109, 2483, 62, 18025, 9, 14, 91, 229, 2, 68, 912, 4228, 4409, 101, 74, 3091, 14217], [16, 15, 347, 15246, 81, 1295, 5343, 49, 957, 825, 150, 184, 1, 32, 4410, 11, 1879, 15247, 1, 1, 75, 347, 59, 94, 195, 174, 232, 473, 546, 5, 2840, 27, 79, 574, 4353, 3658, 24, 12634, 2134, 866, 7, 166, 12635, 736, 15246, 46, 609, 1987, 12636, 4411, 1295, 5343, 1, 1, 1632, 15246, 3, 1350, 1198, 341, 825, 785, 1121, 41, 3031, 76, 1599, 61, 153, 93, 2249, 1, 2118, 15246, 1485, 8, 31, 20, 2219, 147, 6, 15246, 77, 1184, 15248, 2, 793, 1, 17, 1, 100, 14, 761, 785, 35, 5073, 15249, 1, 99, 1, 4977, 2, 5344, 185, 69, 82, 19, 761, 222, 15246, 830, 16461, 3703, 8, 4354, 1529, 1072, 5, 1704, 18026, 15246, 3, 155, 200, 5763, 1295, 5343, 191, 39, 2316, 8, 1879, 15247, 11, 295, 1, 1879, 10934, 43, 94, 71, 1, 6791, 18027, 1, 347, 44, 184, 81, 1, 191, 13, 193, 124, 579, 18, 1296, 291, 9, 4410, 26, 5763, 128, 3735, 23, 24, 12634, 2134, 1952, 270, 26, 2249, 539, 6957, 294, 2250, 11, 110, 1925, 28, 2, 1, 34, 5763, 1295, 5343, 2316, 11, 1, 4978, 5763, 1295, 5343, 143, 1199, 2794, 24, 12634, 2134, 4, 1496, 1822, 4229, 1094, 836, 435, 303, 1508, 2250, 28, 1545, 522, 77, 48, 73, 10456, 2107, 5763, 4, 325, 325, 18, 3821, 335, 67, 753, 504, 4, 42, 818, 4979, 295, 28, 3, 3130, 26, 5763, 486, 47, 228, 18, 190, 110, 1667, 7, 2064, 2795, 6628, 11412, 3, 3148, 24, 12634, 2134, 310, 303, 8, 114, 9, 10457, 449, 26, 5763, 203, 105, 609, 1122, 15249, 1, 1926, 1351, 26, 5763, 32, 3701, 18, 1394, 147, 12636, 291, 20, 125, 1207, 986, 274, 1926, 4, 2933, 32, 19, 918, 141, 454, 322, 273, 2934, 356, 1094, 143, 1621, 1879, 15247, 1, 81, 332, 143, 6357, 7, 44, 81, 1, 76, 24, 12634, 2134, 273, 2934, 178, 186, 26, 5763, 3240, 76, 1927, 1350, 1210, 13392, 12637]]\n",
      "\n",
      "Highlight Sequences (Training):\n",
      "[[43, 124, 4314, 9751, 100, 5177, 13260, 77, 2527, 3, 629, 198, 87, 1816, 2528, 9752, 153, 13261, 5821, 126, 1437, 5177, 10, 350, 2403, 451, 19, 92], [30, 2, 217, 9753, 13262, 2806, 13263, 2807, 3980, 9754, 2808, 2, 19, 283, 182, 748, 748, 2040, 304, 149, 6696, 12, 224, 13264, 1180, 258, 3402, 179, 2107], [199, 284, 2, 20, 4315, 575, 2, 950, 13265, 1551, 444, 5, 69, 4316, 81, 291, 6, 1438, 83, 40, 2809, 240, 663, 38, 639], [18, 124, 1204, 2810, 3403, 2, 792, 18, 124, 1473, 128, 345, 378, 2, 327, 438, 2, 792, 1097, 2810, 1513, 15, 13266, 863, 71, 2, 1157, 465, 2810, 345, 2187, 1223, 10, 327, 4317, 1395, 4318, 5178, 1396, 664, 2810], [79, 7871, 2108, 3651, 9755, 9756, 12, 38, 136, 716, 841, 95, 1397, 7, 970, 423, 16, 21, 13267, 48, 13268, 2109, 87, 241, 6, 13, 8, 653, 7872, 368, 26, 5179]]\n",
      "\n",
      "Highlight Sequences (Validation):\n",
      "[[181, 57, 109, 2012, 85, 4170, 101, 2359, 3047, 25, 1732, 488, 807, 1415, 1423, 1059, 1376, 4849, 149, 751, 2640, 3, 56, 2, 109], [1830, 2318, 107, 19, 704, 8355, 150, 14, 6606, 2928, 151, 430, 192, 2001, 3, 867, 808, 579, 4802], [23, 192, 3, 3379, 2, 16111, 37, 111, 2471, 6, 1, 192, 69, 5219, 979, 3, 2967, 329], [278, 312, 141, 798, 43, 91, 1, 266, 3, 7780, 23, 1444, 2, 277, 182, 1301, 227, 278, 22, 697, 23, 1761, 4, 166, 7554], [1441, 4, 1442, 19, 11, 1, 55, 192, 2001, 1279, 620, 174, 12, 81, 164, 2949, 1279, 620, 22, 11, 18782]]\n"
     ]
    }
   ],
   "source": [
    "\n",
    "# Convert texts to sequences\n",
    "article_sequences_train = article_tokenizer.texts_to_sequences(articles_train)\n",
    "highlight_sequences_train = highlight_tokenizer.texts_to_sequences(highlights_train)\n",
    "highlight_sequences_val = highlight_tokenizer.texts_to_sequences(highlights_val)\n",
    "\n",
    "# Print results of texts_to_sequences\n",
    "print(\"Article Sequences (Training):\")\n",
    "print(article_sequences_train[:5])  \n",
    "\n",
    "print(\"\\nHighlight Sequences (Training):\")\n",
    "print(highlight_sequences_train[:5])  \n",
    "\n",
    "print(\"\\nHighlight Sequences (Validation):\")\n",
    "print(highlight_sequences_val[:5])  \n",
    "\n"
   ]
  },
  {
   "cell_type": "code",
   "execution_count": 9,
   "metadata": {},
   "outputs": [
    {
     "name": "stdout",
     "output_type": "stream",
     "text": [
      "Sample Padded Article:\n",
      " [  122     6    11   132   602   752  2338   326  1017   126   721  1106\n",
      "  1034  1372  1215     1  1194   208   184 14214    49   233     5  1215\n",
      "   558   723   336  6490  3408   481     2   175  1205    87   822   122\n",
      "    69    13   336  6490   178  2077     2   900   126   392     6     4\n",
      "    13  1180  8669  1215   430   481  6490     1  2381     3   326     1\n",
      "   397   481  5646   337    84   184 14214  1017     7    29  1519   353\n",
      "   835     3    14  4352     4  3205   305   228  2314     6  6490  2954\n",
      "   269  6491     3  2930  6624  5546    18  2930   326  1177  6490    25\n",
      "  3734  1205   149     6   481   690   820   589     1  1744     1  4022\n",
      "  5153    69  5441   709 18020   930  6491   343   709    32     1   269\n",
      "  5966  4805     3  7915  6490  2724    82  5442  6491   524     2   348\n",
      "  1587     4   304  2274   938  2751  2724   269  6491     4  5966  4805\n",
      "     3 11408  6490  6492  2460 14214  5068   165   709 18020   930  6491\n",
      "   442  1009    67   191     2   269  6491   362  1631   353   559 14214\n",
      "  9309     1     1 12000     4  4284     1  2008  1678  2314     6   184\n",
      "  3147 14214  1198  6354  1270   397     5   894  6490   849     1   135\n",
      " 14214   561    23   620  2246     3  6625   304]\n",
      "\n",
      "Sample Padded Summary:\n",
      " [   43   124  4314  9751   100  5177 13260    77  2527     3   629   198\n",
      "    87  1816  2528  9752   153 13261  5821   126  1437  5177    10   350\n",
      "  2403   451    19    92     0     0     0     0     0     0     0     0\n",
      "     0     0     0     0     0     0     0     0     0     0     0     0\n",
      "     0     0     0     0     0     0     0     0     0     0     0     0\n",
      "     0     0     0     0     0     0     0     0     0     0     0     0\n",
      "     0     0     0     0     0     0     0     0     0     0     0     0\n",
      "     0     0     0     0     0     0     0     0     0     0     0     0\n",
      "     0     0     0     0     0     0     0     0     0     0     0     0\n",
      "     0     0     0     0     0     0     0     0     0     0     0     0\n",
      "     0     0     0     0     0     0     0     0     0     0     0     0\n",
      "     0     0     0     0     0     0     0     0     0     0     0     0\n",
      "     0     0     0     0     0     0     0     0     0     0     0     0\n",
      "     0     0     0     0     0     0     0     0     0     0     0     0\n",
      "     0     0     0     0     0     0     0     0     0     0     0     0\n",
      "     0     0     0     0     0     0     0     0     0     0     0     0\n",
      "     0     0     0     0     0     0     0     0]\n"
     ]
    }
   ],
   "source": [
    "\n",
    "max_article_len = 200\n",
    "max_highlight_len = 200\n",
    "\n",
    "article_padded_train = pad_sequences(article_sequences_train, maxlen=max_article_len, padding='post')\n",
    "highlight_padded_train = pad_sequences(highlight_sequences_train, maxlen=max_highlight_len, padding='post')\n",
    "article_padded_val = pad_sequences(article_tokenizer.texts_to_sequences(articles_val), maxlen=max_article_len, padding='post')\n",
    "highlight_padded_val = pad_sequences(highlight_sequences_val, maxlen=max_highlight_len, padding='post')\n",
    "\n",
    "print(\"Sample Padded Article:\\n\", article_padded_train[0])\n",
    "print(\"\\nSample Padded Summary:\\n\", highlight_padded_train[0])\n",
    "\n",
    "\n"
   ]
  },
  {
   "cell_type": "code",
   "execution_count": 10,
   "metadata": {},
   "outputs": [
    {
     "name": "stdout",
     "output_type": "stream",
     "text": [
      "Model: \"model\"\n",
      "__________________________________________________________________________________________________\n",
      " Layer (type)                   Output Shape         Param #     Connected to                     \n",
      "==================================================================================================\n",
      " input_1 (InputLayer)           [(None, 200)]        0           []                               \n",
      "                                                                                                  \n",
      " embedding (Embedding)          (None, 200, 1024)    20480000    ['input_1[0][0]']                \n",
      "                                                                                                  \n",
      " lstm (LSTM)                    (None, 200, 512)     3147776     ['embedding[0][0]']              \n",
      "                                                                                                  \n",
      " attention (Attention)          (None, 200, 512)     0           ['lstm[0][0]',                   \n",
      "                                                                  'lstm[0][0]']                   \n",
      "                                                                                                  \n",
      " tf.__operators__.add (TFOpLamb  (None, 200, 512)    0           ['attention[0][0]',              \n",
      " da)                                                              'lstm[0][0]']                   \n",
      "                                                                                                  \n",
      " layer_normalization (LayerNorm  (None, 200, 512)    1024        ['tf.__operators__.add[0][0]']   \n",
      " alization)                                                                                       \n",
      "                                                                                                  \n",
      " time_distributed (TimeDistribu  (None, 200, 20000)  10260000    ['layer_normalization[0][0]']    \n",
      " ted)                                                                                             \n",
      "                                                                                                  \n",
      "==================================================================================================\n",
      "Total params: 33,888,800\n",
      "Trainable params: 33,888,800\n",
      "Non-trainable params: 0\n",
      "__________________________________________________________________________________________________\n"
     ]
    }
   ],
   "source": [
    "# Define parameters\n",
    "embedding_dim = 1024\n",
    "rnn_units = 512\n",
    "\n",
    "# Define the input layer\n",
    "inputs = Input(shape=(max_article_len,))\n",
    "\n",
    "# Embedding layer\n",
    "x = Embedding(input_dim=vocab_size, output_dim=embedding_dim, input_length=max_article_len, trainable=True)(inputs)\n",
    "\n",
    "# LSTM layer (single-directional)\n",
    "x = LSTM(rnn_units, return_sequences=True)(x)\n",
    "\n",
    "# Attention layer with normalization for stability\n",
    "attention_output = Attention()([x, x])\n",
    "attention_output = LayerNormalization(epsilon=1e-6)(attention_output + x)\n",
    "\n",
    "# Dense output layer\n",
    "outputs = TimeDistributed(Dense(vocab_size, activation='softmax'))(attention_output)\n",
    "\n",
    "# Build the model\n",
    "model = Model(inputs=inputs, outputs=outputs)\n",
    "\n",
    "# Compile the model\n",
    "model.compile(optimizer='adam', loss='sparse_categorical_crossentropy', metrics=['accuracy'])\n",
    "model.summary()"
   ]
  },
  {
   "cell_type": "code",
   "execution_count": 12,
   "metadata": {},
   "outputs": [
    {
     "name": "stdout",
     "output_type": "stream",
     "text": [
      "Epoch 1/10\n",
      "625/625 [==============================] - 2934s 5s/step - loss: 1.4559 - accuracy: 0.8567 - val_loss: 0.9297 - val_accuracy: 0.8908\n",
      "Epoch 2/10\n",
      "625/625 [==============================] - 3008s 5s/step - loss: 1.1743 - accuracy: 0.8656 - val_loss: 0.9137 - val_accuracy: 0.8908\n",
      "Epoch 3/10\n",
      "625/625 [==============================] - 3048s 5s/step - loss: 1.1253 - accuracy: 0.8658 - val_loss: 0.9229 - val_accuracy: 0.8881\n",
      "Epoch 4/10\n",
      "625/625 [==============================] - 3057s 5s/step - loss: 1.0803 - accuracy: 0.8662 - val_loss: 0.9182 - val_accuracy: 0.8877\n",
      "Epoch 5/10\n",
      "625/625 [==============================] - 3096s 5s/step - loss: 1.0391 - accuracy: 0.8668 - val_loss: 0.9082 - val_accuracy: 0.8866\n",
      "Epoch 6/10\n",
      "625/625 [==============================] - 3915s 6s/step - loss: 0.9875 - accuracy: 0.8681 - val_loss: 0.9113 - val_accuracy: 0.8849\n",
      "Epoch 7/10\n",
      "625/625 [==============================] - 3062s 5s/step - loss: 0.9137 - accuracy: 0.8708 - val_loss: 0.9376 - val_accuracy: 0.8820\n",
      "Epoch 8/10\n",
      "625/625 [==============================] - 3063s 5s/step - loss: 0.8181 - accuracy: 0.8755 - val_loss: 0.9866 - val_accuracy: 0.8780\n",
      "Epoch 9/10\n",
      "625/625 [==============================] - 3087s 5s/step - loss: 0.7111 - accuracy: 0.8832 - val_loss: 1.0136 - val_accuracy: 0.8789\n",
      "Epoch 10/10\n",
      "625/625 [==============================] - 3106s 5s/step - loss: 0.6079 - accuracy: 0.8924 - val_loss: 1.0708 - val_accuracy: 0.8765\n"
     ]
    }
   ],
   "source": [
    "\n",
    "# Train model\n",
    "history = model.fit(\n",
    "    article_padded_train, highlight_padded_train,\n",
    "    epochs=10,  # Increase epochs for better training\n",
    "    batch_size=16,\n",
    "    validation_data=(article_padded_val, highlight_padded_val)\n",
    ")\n"
   ]
  },
  {
   "cell_type": "code",
   "execution_count": 13,
   "metadata": {},
   "outputs": [
    {
     "data": {
      "image/png": "[encoded data removed]",
      "text/plain": [
       "<Figure size 1200x500 with 1 Axes>"
      ]
     },
     "metadata": {},
     "output_type": "display_data"
    },
    {
     "data": {
      "image/png": "[encoded data removed]",
      "text/plain": [
       "<Figure size 1200x500 with 1 Axes>"
      ]
     },
     "metadata": {},
     "output_type": "display_data"
    }
   ],
   "source": [
    "# Plot Training and Validation Accuracy\n",
    "plt.figure(figsize=(12, 5))\n",
    "plt.plot(history.history['accuracy'], label='Training Accuracy')\n",
    "plt.plot(history.history['val_accuracy'], label='Validation Accuracy', linestyle='--')\n",
    "plt.title('Training and Validation Accuracy')\n",
    "plt.xlabel('Epochs')\n",
    "plt.ylabel('Accuracy')\n",
    "plt.legend()\n",
    "plt.show()\n",
    "\n",
    "# Plot Training and Validation Loss\n",
    "plt.figure(figsize=(12, 5))\n",
    "plt.plot(history.history['loss'], label='Training Loss')\n",
    "plt.plot(history.history['val_loss'], label='Validation Loss', linestyle='--')\n",
    "plt.title('Training and Validation Loss')\n",
    "plt.xlabel('Epochs')\n",
    "plt.ylabel('Loss')\n",
    "plt.legend()\n",
    "plt.show()"
   ]
  },
  {
   "cell_type": "code",
   "execution_count": 14,
   "metadata": {},
   "outputs": [
    {
     "name": "stdout",
     "output_type": "stream",
     "text": [
      "1/1 [==============================] - 0s 353ms/step\n",
      "1/1 [==============================] - 0s 61ms/step\n"
     ]
    },
    {
     "name": "stderr",
     "output_type": "stream",
     "text": [
      "c:\\Users\\ASUS\\AppData\\Local\\Programs\\Python\\Python310\\lib\\site-packages\\nltk\\translate\\bleu_score.py:577: UserWarning: \n",
      "The hypothesis contains 0 counts of 2-gram overlaps.\n",
      "Therefore the BLEU score evaluates to 0, independently of\n",
      "how many N-gram overlaps of lower order it contains.\n",
      "Consider using lower n-gram order or use SmoothingFunction()\n",
      "  warnings.warn(_msg)\n",
      "c:\\Users\\ASUS\\AppData\\Local\\Programs\\Python\\Python310\\lib\\site-packages\\nltk\\translate\\bleu_score.py:577: UserWarning: \n",
      "The hypothesis contains 0 counts of 3-gram overlaps.\n",
      "Therefore the BLEU score evaluates to 0, independently of\n",
      "how many N-gram overlaps of lower order it contains.\n",
      "Consider using lower n-gram order or use SmoothingFunction()\n",
      "  warnings.warn(_msg)\n",
      "c:\\Users\\ASUS\\AppData\\Local\\Programs\\Python\\Python310\\lib\\site-packages\\nltk\\translate\\bleu_score.py:577: UserWarning: \n",
      "The hypothesis contains 0 counts of 4-gram overlaps.\n",
      "Therefore the BLEU score evaluates to 0, independently of\n",
      "how many N-gram overlaps of lower order it contains.\n",
      "Consider using lower n-gram order or use SmoothingFunction()\n",
      "  warnings.warn(_msg)\n"
     ]
    },
    {
     "name": "stdout",
     "output_type": "stream",
     "text": [
      "1/1 [==============================] - 0s 65ms/step\n",
      "1/1 [==============================] - 0s 59ms/step\n",
      "1/1 [==============================] - 0s 61ms/step\n",
      "1/1 [==============================] - 0s 59ms/step\n",
      "1/1 [==============================] - 0s 68ms/step\n",
      "1/1 [==============================] - 0s 79ms/step\n",
      "1/1 [==============================] - 0s 69ms/step\n",
      "1/1 [==============================] - 0s 68ms/step\n",
      "1/1 [==============================] - 0s 67ms/step\n",
      "1/1 [==============================] - 0s 67ms/step\n",
      "1/1 [==============================] - 0s 67ms/step\n",
      "1/1 [==============================] - 0s 70ms/step\n",
      "1/1 [==============================] - 0s 64ms/step\n",
      "1/1 [==============================] - 0s 70ms/step\n",
      "1/1 [==============================] - 0s 70ms/step\n",
      "1/1 [==============================] - 0s 75ms/step\n",
      "1/1 [==============================] - 0s 69ms/step\n",
      "1/1 [==============================] - 0s 71ms/step\n",
      "1/1 [==============================] - 0s 74ms/step\n",
      "1/1 [==============================] - 0s 66ms/step\n",
      "1/1 [==============================] - 0s 74ms/step\n",
      "1/1 [==============================] - 0s 70ms/step\n",
      "1/1 [==============================] - 0s 72ms/step\n",
      "1/1 [==============================] - 0s 69ms/step\n",
      "1/1 [==============================] - 0s 71ms/step\n",
      "1/1 [==============================] - 0s 95ms/step\n",
      "1/1 [==============================] - 0s 81ms/step\n",
      "1/1 [==============================] - 0s 67ms/step\n",
      "1/1 [==============================] - 0s 68ms/step\n",
      "1/1 [==============================] - 0s 72ms/step\n",
      "1/1 [==============================] - 0s 69ms/step\n",
      "1/1 [==============================] - 0s 70ms/step\n",
      "1/1 [==============================] - 0s 78ms/step\n",
      "1/1 [==============================] - 0s 74ms/step\n",
      "1/1 [==============================] - 0s 65ms/step\n",
      "1/1 [==============================] - 0s 72ms/step\n",
      "1/1 [==============================] - 0s 68ms/step\n",
      "1/1 [==============================] - 0s 70ms/step\n",
      "1/1 [==============================] - 0s 79ms/step\n",
      "1/1 [==============================] - 0s 79ms/step\n",
      "1/1 [==============================] - 0s 72ms/step\n",
      "1/1 [==============================] - 0s 75ms/step\n",
      "1/1 [==============================] - 0s 79ms/step\n",
      "1/1 [==============================] - 0s 76ms/step\n",
      "1/1 [==============================] - 0s 75ms/step\n",
      "1/1 [==============================] - 0s 78ms/step\n",
      "1/1 [==============================] - 0s 72ms/step\n",
      "1/1 [==============================] - 0s 69ms/step\n",
      "1/1 [==============================] - 0s 65ms/step\n",
      "1/1 [==============================] - 0s 67ms/step\n",
      "1/1 [==============================] - 0s 62ms/step\n",
      "1/1 [==============================] - 0s 61ms/step\n",
      "1/1 [==============================] - 0s 62ms/step\n",
      "1/1 [==============================] - 0s 65ms/step\n",
      "1/1 [==============================] - 0s 62ms/step\n",
      "1/1 [==============================] - 0s 64ms/step\n",
      "1/1 [==============================] - 0s 65ms/step\n",
      "1/1 [==============================] - 0s 61ms/step\n",
      "1/1 [==============================] - 0s 63ms/step\n",
      "1/1 [==============================] - 0s 61ms/step\n",
      "1/1 [==============================] - 0s 62ms/step\n",
      "1/1 [==============================] - 0s 64ms/step\n",
      "1/1 [==============================] - 0s 64ms/step\n",
      "1/1 [==============================] - 0s 65ms/step\n",
      "1/1 [==============================] - 0s 61ms/step\n",
      "1/1 [==============================] - 0s 62ms/step\n",
      "1/1 [==============================] - 0s 63ms/step\n",
      "1/1 [==============================] - 0s 62ms/step\n",
      "1/1 [==============================] - 0s 62ms/step\n",
      "1/1 [==============================] - 0s 60ms/step\n",
      "1/1 [==============================] - 0s 63ms/step\n",
      "1/1 [==============================] - 0s 62ms/step\n",
      "1/1 [==============================] - 0s 64ms/step\n",
      "1/1 [==============================] - 0s 61ms/step\n",
      "1/1 [==============================] - 0s 61ms/step\n",
      "1/1 [==============================] - 0s 60ms/step\n",
      "1/1 [==============================] - 0s 61ms/step\n",
      "1/1 [==============================] - 0s 65ms/step\n",
      "1/1 [==============================] - 0s 61ms/step\n",
      "1/1 [==============================] - 0s 63ms/step\n",
      "1/1 [==============================] - 0s 60ms/step\n",
      "1/1 [==============================] - 0s 63ms/step\n",
      "1/1 [==============================] - 0s 65ms/step\n",
      "1/1 [==============================] - 0s 69ms/step\n",
      "1/1 [==============================] - 0s 68ms/step\n",
      "1/1 [==============================] - 0s 66ms/step\n",
      "1/1 [==============================] - 0s 66ms/step\n",
      "1/1 [==============================] - 0s 67ms/step\n",
      "1/1 [==============================] - 0s 75ms/step\n",
      "1/1 [==============================] - 0s 65ms/step\n",
      "1/1 [==============================] - 0s 65ms/step\n",
      "1/1 [==============================] - 0s 65ms/step\n",
      "1/1 [==============================] - 0s 70ms/step\n",
      "1/1 [==============================] - 0s 70ms/step\n",
      "1/1 [==============================] - 0s 65ms/step\n",
      "1/1 [==============================] - 0s 69ms/step\n",
      "1/1 [==============================] - 0s 61ms/step\n",
      "1/1 [==============================] - 0s 68ms/step\n",
      "Average BLEU Score: 3.4195732077808954e-156\n"
     ]
    }
   ],
   "source": [
    "\n",
    "# Prediction and decoding functions\n",
    "def decode_sequence(sequence):\n",
    "    return ' '.join([highlight_tokenizer.index_word.get(i, '') for i in sequence if i != 0])\n",
    "\n",
    "def generate_summary(article):\n",
    "    article_sequence = article_tokenizer.texts_to_sequences([article])\n",
    "    article_padded = pad_sequences(article_sequence, maxlen=max_article_len, padding='post')\n",
    "    predicted = model.predict(article_padded)\n",
    "    predicted_sequence = np.argmax(predicted, axis=-1)\n",
    "    return decode_sequence(predicted_sequence[0])\n",
    "\n",
    "# BLEU Score Evaluation\n",
    "bleu_scores = []\n",
    "for i in range(100):\n",
    "    predicted_summary = generate_summary(articles_val[i])\n",
    "    reference_summary = decode_sequence(highlight_padded_val[i])\n",
    "    score = sentence_bleu([reference_summary.split()], predicted_summary.split())\n",
    "    bleu_scores.append(score)\n",
    "\n",
    "average_bleu_score = np.mean(bleu_scores)\n",
    "print(f'Average BLEU Score: {average_bleu_score}')\n",
    "\n",
    "\n"
   ]
  },
  {
   "cell_type": "code",
   "execution_count": 15,
   "metadata": {},
   "outputs": [
    {
     "name": "stdout",
     "output_type": "stream",
     "text": [
      "artikel berita: Liputan6 . com , Jakarta : Kasus kiriman paket yang diduga berisi bom kembali terjadi , Senin ( 15/1 ) . Kali ini isu bom meresahkan warga Jalan Garuda , Jakarta Pusat . Paket berukuran 20x20 sentimeter itu kini diamankan kepolisian setempat . Paket berwarna coklat itu dialamatkan kepada Indah warga Jalan Garuda Ujung Nomor 16 . Sementara pengirimnya tertera Yuwono dan Ambarawa . Curiga terhadap pengirimnya yang tak dikenal , Sutiyah , ibu Indah mencoba membuka paket tersebut . Setelah melihat banyak kabel , ia kaget . Lalu dengan sigap menelepon polisi . Kepada SCTV warga di sekitar lokasi tetap khawatir . Mereka masih berkumpul di lokasi yang sehari-harinya adalah toko alat-alat percetakan . Kendati , polisi telah mengamankan paket tersebut . ( YYT/Olivia Rosalia dan Irfan Effendi ) .\n",
      "summary: Ibu Kota Jakarta kembali dikejutkan dengan isu bom . Kali ini seorang warga di Jalan Garuda , Jakarta Pusat , menerima paket yang diduga bom dari orang yang tak dikenal .\n"
     ]
    }
   ],
   "source": [
    "print(\"artikel berita:\", articles_val[30])\n",
    "print(\"summary:\",highlights_val[30])"
   ]
  },
  {
   "cell_type": "code",
   "execution_count": 16,
   "metadata": {},
   "outputs": [
    {
     "name": "stdout",
     "output_type": "stream",
     "text": [
      "1/1 [==============================] - 0s 63ms/step\n",
      "Predicted Summary: sejumlah yang yang kembali berdiam kembali dan di dan di mobil mobil mobil di ini ini ini yang di jiwa ada ada yang yang yang dan namun\n"
     ]
    }
   ],
   "source": [
    "input_article = articles_val[30]\n",
    "predicted_summary = generate_summary(input_article)\n",
    "print(\"Predicted Summary:\", predicted_summary)"
   ]
  },
  {
   "cell_type": "code",
   "execution_count": 17,
   "metadata": {},
   "outputs": [
    {
     "name": "stdout",
     "output_type": "stream",
     "text": [
      "artikel berita: Liputan6 . com , Jakarta : Dua dari sepuluh korban kebocoran tabung gas di Tanjungduren , Jakarta Barat , Senin ( 26/7 ) , diperbolehkan pulang dari Rumah Sakit Sumber Waras . Kondisi kedua korban dinilai tidak terlalu parah [ baca : Tabung Elpiji Bocor , Sepuluh Orang Luka ] . Usai kejadian pada Ahad silam , PT Pertamina menjenguk korban kebocoran elpiji ukuran tiga kilogram di RS Sumber Waras , Jakbar . Dalam kesempatan itu Pertamina berjanji menanggung seluruh biaya pengobatan korban . Para korban yang dirawat di rumah sakit mengaku trauma menggunakan tabung gas ukuran 3 kilogram . Sepanjang 2010 , telah terjadi 13 ledakan tabung gas di Jakarta Barat . Dua ledakan di antaranya terjadi di kawasan Tanjungduren Selatan dan Tanjungduren . ( AIS ) .\n",
      "summary: Dua dari sepuluh korban kebocoran tabung gas di Tanjungduren , Jakbar , diperbolehkan pulang dari RS Sumber Waras . Kondisi keduanya dinilai tidak terlalu parah .\n"
     ]
    }
   ],
   "source": [
    "print(\"artikel berita:\", articles_train[30])\n",
    "print(\"summary:\",highlights_train[30])"
   ]
  },
  {
   "cell_type": "code",
   "execution_count": 18,
   "metadata": {},
   "outputs": [
    {
     "name": "stdout",
     "output_type": "stream",
     "text": [
      "1/1 [==============================] - 0s 59ms/step\n",
      "Predicted Summary: dua tabung tabung tabung tabung sepuluh tanjungduren tanjungduren tanjungduren tanjungduren gas pulang korban rs waras waras tidak keduanya yang tidak tidak\n"
     ]
    }
   ],
   "source": [
    "# User input for summarization\n",
    "user_input = articles_train[30]\n",
    "predicted_summary = generate_summary(user_input)\n",
    "print(\"Predicted Summary:\", predicted_summary)"
   ]
  }
 ],
 "metadata": {
  "kernelspec": {
   "display_name": "Python 3",
   "language": "python",
   "name": "python3"
  },
  "language_info": {
   "codemirror_mode": {
    "name": "ipython",
    "version": 3
   },
   "file_extension": ".py",
   "mimetype": "text/x-python",
   "name": "python",
   "nbconvert_exporter": "python",
   "pygments_lexer": "ipython3",
   "version": "3.10.8"
  }
 },
 "nbformat": 4,
 "nbformat_minor": 2
}
